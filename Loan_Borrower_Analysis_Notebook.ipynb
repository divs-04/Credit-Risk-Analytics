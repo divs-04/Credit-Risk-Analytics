{
 "cells": [
  {
   "cell_type": "markdown",
   "id": "e7fd078d-7adc-4bbf-9646-3a0b5dbebcd2",
   "metadata": {},
   "source": [
    "# **\"PAY_PATTERNS: INSIGHTS INTO LOAN REPAYMENT\"**"
   ]
  },
  {
   "cell_type": "markdown",
   "id": "42dea484-8794-407a-9933-4c46a0908372",
   "metadata": {},
   "source": [
    "### ***`OWNER - DIVYANSHU SRIVASTAVA`***"
   ]
  },
  {
   "cell_type": "markdown",
   "id": "58c07385-65af-4158-be7e-9ef8fffd5f20",
   "metadata": {},
   "source": [
    "#### **`In the SQL notebook, we successfully performed data quality checks, cleaning, and integrity validation, ensuring that our dataset is accurate, consistent, and analysis-ready.`**\n",
    "\n",
    "#### **`Now, in this Jupyter notebook, we take the next step — bridging SQL with Python. By connecting directly to our MySQL database, we’ll run targeted SQL queries to extract meaningful insights. These insights will then be transformed into interactive and visually compelling plots using Matplotlib and Seaborn, making complex patterns easy to understand and communicate.`**\n",
    "\n",
    "#### **`This notebook serves as the analytical storytelling layer of our project—where raw numbers evolve into clear narratives, empowering data-driven decisions.`**"
   ]
  },
  {
   "cell_type": "code",
   "execution_count": null,
   "id": "77591711-64d6-4b58-92d4-bb2d0c612c79",
   "metadata": {},
   "outputs": [],
   "source": [
    "# Importing necessary libraries\n",
    "import numpy as np\n",
    "import pandas as pd\n",
    "import matplotlib.pyplot as plt\n",
    "import seaborn as sns\n",
    "import mysql.connector\n",
    "import getpass"
   ]
  },
  {
   "cell_type": "code",
   "execution_count": null,
   "id": "22e9f884-4ba4-4ccd-ba86-903f669f37f8",
   "metadata": {},
   "outputs": [],
   "source": [
    "# Function to connect to the datbase\n",
    "def create_connection():\n",
    "    \"\"\"\n",
    "    Create a secure connection to the MySQL database.\n",
    "    Uses getpass for password input (avoids hardcoding).\n",
    "    \"\"\"\n",
    "    try:\n",
    "        # Ask for password securely\n",
    "        password = getpass.getpass(\"Enter MySQL password: \")\n",
    "\n",
    "        # Database configuration\n",
    "        db_config = {\n",
    "            'user': 'root',\n",
    "            'password': password,\n",
    "            'host': 'localhost',\n",
    "            'database': 'loan_analytics'\n",
    "        }\n",
    "\n",
    "        # Establish connection\n",
    "        conn = mysql.connector.connect(**db_config)\n",
    "        if conn.is_connected():\n",
    "            print(\"Connected to MySQL Database!\")\n",
    "            return conn\n",
    "    except mysql.connector.Error as e:\n",
    "        print(\"Error while connecting:\", e)\n",
    "        return None"
   ]
  },
  {
   "cell_type": "code",
   "execution_count": null,
   "id": "cd4a42bf-a8f8-43a9-a462-64c6ae809435",
   "metadata": {},
   "outputs": [],
   "source": [
    "# Connecting to the database\n",
    "conn = create_connection()"
   ]
  },
  {
   "cell_type": "code",
   "execution_count": null,
   "id": "7d834b04-6527-475d-9dad-b962950e9982",
   "metadata": {},
   "outputs": [],
   "source": [
    "# Function for running the SQL queries and storing the resut as a dataframe\n",
    "def run_query(conn, query):\n",
    "    \"\"\"\n",
    "    Run a SQL query using mysql-connector and return DataFrame.\n",
    "    \"\"\"\n",
    "    try:\n",
    "        cursor = conn.cursor(dictionary = True)  # results as dict\n",
    "        cursor.execute(query)\n",
    "        rows = cursor.fetchall()\n",
    "        df = pd.DataFrame(rows) if rows else pd.DataFrame()\n",
    "        cursor.close()\n",
    "        return df\n",
    "    except Exception as e:\n",
    "        print(\"Error running query:\", e)\n",
    "        return None"
   ]
  },
  {
   "cell_type": "markdown",
   "id": "8827d7b1-ac0e-4c51-8434-8f5d11fb9ba4",
   "metadata": {},
   "source": [
    "# ***BASIC DESCREPTIVE STATS***"
   ]
  },
  {
   "cell_type": "markdown",
   "id": "d19c5df2-a833-413b-ae51-3406dc7a8f07",
   "metadata": {},
   "source": [
    "## ***1. BORROWERS TABLE-***\n",
    "`The Borrowers table reveals strong diversity across demographics and credit profiles. Annual incomes range from very low to extremely high, with an average of ~₹80k, highlighting a wide borrower spectrum. Most borrowers hold around 25 total credit accounts, indicating established credit histories. Employment length shows concentration in the 3–5 year range, reflecting mid-career individuals forming the bulk of applicants.`\n",
    "\n",
    "`In terms of stability, nearly half of borrowers own homes with a mortgage, while 41% rent and a smaller share own their homes outright. Importantly, about two-thirds of borrowers have verified incomes, showing that lenders rely significantly on verification while still extending credit to a notable non-verified group. Together, these patterns suggest lenders are serving a mix of mid-income, mid-career borrowers, balancing risk through income verification and collateral (homeownership), while still leaving exposure in unverified and rental-heavy segments.`"
   ]
  },
  {
   "cell_type": "markdown",
   "id": "2101dec7-5b58-42fb-91e6-3b9353d95aed",
   "metadata": {},
   "source": [
    "### ***`Check minimum and maximum, average annual income of borrowers.`***\n",
    "\n",
    "`Borrower incomes in the portfolio range widely—from as low as $2,400 to as high as over $6.7 million, with an average around $80K across nearly 50,000 borrowers. The KDE plot shows a heavy concentration of incomes at the lower to middle range, while only a few outliers push the maximum upwards. This wide spread highlights that while most borrowers come from modest income brackets, a small fraction of very high earners significantly skews the distribution`"
   ]
  },
  {
   "cell_type": "code",
   "execution_count": null,
   "id": "072edc68-88eb-4880-b151-1bac98484d10",
   "metadata": {},
   "outputs": [],
   "source": [
    "query = \"\"\"\n",
    "        SELECT MIN(annual_inc) AS min_income,\n",
    "               MAX(annual_inc) AS max_income,\n",
    "               AVG(annual_inc) AS avg_income,\n",
    "               COUNT(*) AS income_entries\n",
    "        FROM borrowers;\n",
    "        \"\"\"\n",
    "\n",
    "df = run_query(conn,query) \n",
    "print(df)"
   ]
  },
  {
   "cell_type": "code",
   "execution_count": null,
   "id": "941c7800-c328-4905-a4ea-370007d2f17b",
   "metadata": {},
   "outputs": [],
   "source": [
    "query = \"\"\"\n",
    "        SELECT annual_inc,borrower_id\n",
    "        FROM borrowers;\n",
    "        \"\"\"\n",
    "\n",
    "df = run_query(conn,query) \n",
    "\n",
    "plt.figure(figsize = (12,6))\n",
    "sns.kdeplot(data = df,x = 'annual_inc',color = 'r')\n",
    "plt.xticks(ticks = range(0,6800001,200000))\n",
    "plt.xlim(0,6800001)\n",
    "plt.xticks(rotation = 45)\n",
    "plt.title('Annual Income Probability Density Curve',fontweight = 'bold')\n",
    "plt.grid(True)\n",
    "plt.tight_layout()\n",
    "plt.show()"
   ]
  },
  {
   "cell_type": "markdown",
   "id": "23ccf7e5-5828-4e3a-8848-9485d5f5e383",
   "metadata": {},
   "source": [
    "### ***`Check distribution of total accounts among borrowers.`***\n",
    "\n",
    "`Borrowers hold anywhere between 2 and 176 credit accounts, with an average of about 25 accounts. The density plot shows that most borrowers cluster in the lower-to-mid account range, while a few outliers with extremely high numbers of accounts stretch the distribution’s tail. This suggests that while the typical borrower manages a moderate number of accounts, a small subset may be significantly more leveraged, potentially carrying higher complexity in repayment behavior.`"
   ]
  },
  {
   "cell_type": "code",
   "execution_count": null,
   "id": "19ee4bbd-8de4-4cbb-b724-d4908d9bed2d",
   "metadata": {},
   "outputs": [],
   "source": [
    "query = \"\"\"\n",
    "       SELECT MIN(total_acc) AS min_acc,\n",
    "       MAX(total_acc) AS max_acc,\n",
    "       AVG(total_acc) AS avg_acc,\n",
    "       COUNT(*) AS total_acc_entries\n",
    "       FROM borrowers;\n",
    "\"\"\"\n",
    "\n",
    "df = run_query(conn,query)\n",
    "print(df)"
   ]
  },
  {
   "cell_type": "code",
   "execution_count": null,
   "id": "b981684c-0bac-4a8a-b72f-2aca35e685f0",
   "metadata": {},
   "outputs": [],
   "source": [
    "query = \"\"\"\n",
    "        SELECT total_acc,borrower_id\n",
    "        FROM borrowers;\n",
    "        \"\"\"\n",
    "\n",
    "df = run_query(conn,query) \n",
    "\n",
    "plt.figure(figsize = (12,6))\n",
    "sns.kdeplot(data = df,x = 'total_acc',color = 'lime')\n",
    "plt.xticks(rotation = 45)\n",
    "plt.title('Total Accounts Probability Density Curve',fontweight = 'bold')\n",
    "plt.grid(True)\n",
    "plt.tight_layout()\n",
    "plt.show()"
   ]
  },
  {
   "cell_type": "markdown",
   "id": "9c5b894c-dee5-4b58-b6a0-57c69d2b78dd",
   "metadata": {},
   "source": [
    "### ***`Check number of borrowers by distinct employment length.`***\n",
    "`The borrower base is fairly diverse in employment history, but the majority cluster around 3–5 years of experience, together making up over 50% of the pool. Shorter tenures like 2 years or less account for only a small slice, while longer stability of 8–9 years is also present but less common. This distribution highlights that lenders are primarily dealing with borrowers in the mid-stage of their careers, suggesting moderate income stability but not always the long-term track record associated with very low credit risk.`"
   ]
  },
  {
   "cell_type": "code",
   "execution_count": null,
   "id": "494279f2-7bcf-4afb-9ab7-16139eea391b",
   "metadata": {},
   "outputs": [],
   "source": [
    "query = \"\"\"\n",
    "      SELECT  emp_length,COUNT(*) AS 'total_borrowers_count',\n",
    "      ROUND(COUNT(*) * 100 / (SELECT COUNT(borrower_id) FROM borrowers),2) AS 'percent_borrowers'\n",
    "      FROM borrowers\n",
    "      GROUP BY emp_length\n",
    "      ORDER BY emp_length DESC;\n",
    "\"\"\"\n",
    "\n",
    "df = run_query(conn,query)\n",
    "print(df,end = '\\n\\n')\n",
    "\n",
    "fig,ax = plt.subplots(nrows = 1,ncols = 2, figsize = (15,6))\n",
    "\n",
    "sns.barplot(data = df,hue = 'emp_length', y = 'total_borrowers_count',palette = 'coolwarm',ax = ax[0])\n",
    "ax[0].legend(title = \"Emp Length\")\n",
    "ax[0].grid(True)\n",
    "ax[0].set_title('Frequency Count of Borrowers by Distinct Emp_Length',fontweight = 'bold')\n",
    "\n",
    "ax[1].pie(df['percent_borrowers'],autopct = '%1.2f%%',colors = sns.color_palette('icefire'))\n",
    "ax[1].legend(labels = df['emp_length'],title=\"Emp Length\")\n",
    "ax[1].set_title('Percentage Borrowers by Distinct Emp_Length',fontweight = 'bold')\n",
    "\n",
    "plt.tight_layout()\n",
    "plt.show()"
   ]
  },
  {
   "cell_type": "markdown",
   "id": "67d9d3aa-0628-4c24-b9c9-297395fc7ce4",
   "metadata": {},
   "source": [
    "### ***`Check number of borrowers by distinct home ownership values`***\n",
    "`Nearly half of all borrowers are financing their homes through a mortgage (47.5%), while another 41% live in rentals, showing that a large portion of borrowers do not fully own their homes yet. Only about 11% are outright owners, a much smaller segment. This split suggests that most borrowers are still in the wealth-building stage, with significant housing costs either as rent or mortgage, which could impact repayment capacity but also signals steady financial commitments.`"
   ]
  },
  {
   "cell_type": "code",
   "execution_count": null,
   "id": "4bcd1356-47e7-4ad1-b7f0-f4a6ccd365e0",
   "metadata": {},
   "outputs": [],
   "source": [
    "query = \"\"\"SELECT home_ownership,  COUNT(*) AS 'total_borrowers_count',\n",
    "            COUNT(*) * 100 / (SELECT COUNT(borrower_id) FROM borrowers) AS 'percent_borrowers'\n",
    "            FROM borrowers\n",
    "            GROUP BY home_ownership\n",
    "            ORDER BY total_borrowers_count DESC;\"\"\"\n",
    "\n",
    "df = run_query(conn,query)\n",
    "print(df,end = '\\n\\n')\n",
    "\n",
    "fig,ax = plt.subplots(nrows = 1,ncols = 2, figsize = (15,6))\n",
    "\n",
    "sns.barplot(data = df,hue = 'home_ownership', y = 'total_borrowers_count',palette = 'viridis',ax = ax[0])\n",
    "ax[0].legend(title=\"Home Ownership\")\n",
    "ax[0].grid(True)\n",
    "ax[0].set_title('Frequency Count of Borrowers by Distinct Home Ownership',fontweight = 'bold')\n",
    "\n",
    "ax[1].pie(df['percent_borrowers'],autopct = '%1.2f%%',colors = sns.color_palette('Spectral'))\n",
    "ax[1].legend(labels = df['home_ownership'],title = \"Home Ownership\")\n",
    "ax[1].set_title('Percentage Borrowers by Distinct Home Ownership',fontweight = 'bold')\n",
    "\n",
    "plt.tight_layout()\n",
    "plt.show()"
   ]
  },
  {
   "cell_type": "markdown",
   "id": "e14e5859-cbc9-4809-a717-a807a23af6b7",
   "metadata": {},
   "source": [
    "### ***`Check total borrowers distinct verification status values`***\n",
    "\n",
    "`Around 64% of borrowers have their income verified, while the remaining 36% are not verified. This indicates that lenders rely heavily on verified income as a safeguard, but a significant chunk of loans is still issued without strict verification. In real-world terms, this split highlights a trade-off: verified borrowers provide more confidence in repayment ability, whereas non-verified borrowers may pose higher risk but are still included to expand lending opportunities.`"
   ]
  },
  {
   "cell_type": "code",
   "execution_count": null,
   "id": "54a948fe-3422-46f6-b730-54f03aa96c52",
   "metadata": {},
   "outputs": [],
   "source": [
    "query = \"\"\"SELECT DISTINCT verification_status, COUNT(*) AS 'total_count',\n",
    "            COUNT(*) * 100 / (SELECT COUNT(borrower_id) FROM borrowers) AS 'percent_borrowers'\n",
    "            FROM borrowers\n",
    "            GROUP BY verification_status\n",
    "            ORDER BY total_count DESC;\"\"\"\n",
    "\n",
    "df = run_query(conn,query)\n",
    "print(df,end='\\n\\n')\n",
    "\n",
    "fig,ax = plt.subplots(nrows = 1,ncols = 2, figsize = (15,6))\n",
    "\n",
    "sns.barplot(data = df,hue = 'verification_status', y = 'total_count',palette = 'pastel',ax = ax[0])\n",
    "ax[0].legend(title=\"Verification Status\")\n",
    "ax[0].grid(True)\n",
    "ax[0].set_title('Frequency Count of Borrowers by Verification Status',fontweight = 'bold')\n",
    "\n",
    "ax[1].pie(df['percent_borrowers'],autopct = '%1.2f%%',colors = sns.color_palette('Set3'))\n",
    "ax[1].legend(labels = df['verification_status'],title = \"Verification Status\")\n",
    "ax[1].set_title('Percentage Borrowers by Distinct Verification Status',fontweight = 'bold')\n",
    "\n",
    "plt.tight_layout()\n",
    "plt.show()"
   ]
  },
  {
   "cell_type": "markdown",
   "id": "b3b8fbe1-d236-4ba9-b34f-82b6ce3bdd9d",
   "metadata": {},
   "source": [
    "## ***2. LOANS TABLE-***\n",
    "`The loans dataset shows that most borrowers take loans between $1,000 and $40,000, with an average loan of ~$15,800, and prefer 36–60 month terms. Interest rates vary widely from 5.3% to 29%, with an average of 12.5%, reflecting both low- and high-risk lending. Debt-to-income ratios are generally moderate (avg ~19.4%), but some borrowers have extremely high leverage. Most borrowers have low delinquency history, though a few exhibit repeated late payments, and revolving credit utilization is broad, averaging 52%, indicating varying credit behavior.`\n",
    "\n",
    "`Borrower segmentation by grade shows that grades B and C dominate, while higher-risk grades F and G are much smaller in share. Regarding loan purpose, debt consolidation and credit card refinancing are most common, comprising the bulk of the portfolio. Loan status analysis indicates that while a majority of borrowers are current or fully paid, around 25% have charged-off loans, highlighting risk exposure. Overall, the loans table reflects a diverse portfolio with concentration in mid-grade, debt consolidation, and credit card loans, along with key areas of credit risk to monitor.`"
   ]
  },
  {
   "cell_type": "markdown",
   "id": "d7f4a3be-9805-4537-b4e5-afbd7dd21b4d",
   "metadata": {},
   "source": [
    "### ***`Check range of loan_amnt`***\n",
    "`The loan amounts issued to borrowers range from as little as $1,000 to $40,000, with an average of around $15,800. The KDE plot shows a clear clustering toward the mid-to-lower range, suggesting that most borrowers seek moderate loan sizes rather than the maximum limits. This reflects typical borrowing behavior, where loans are often used for debt consolidation or manageable personal expenses, while very high-value loans remain relatively rare.`"
   ]
  },
  {
   "cell_type": "code",
   "execution_count": null,
   "id": "ef12ab4e-ac9d-4a7f-8e6c-a372b4b2f323",
   "metadata": {},
   "outputs": [],
   "source": [
    "query = \"\"\"SELECT MIN(loan_amnt) AS min_loan,\n",
    "           MAX(loan_amnt) AS max_loan,\n",
    "           AVG(loan_amnt) AS avg_loan\n",
    "           FROM loans;\"\"\"\n",
    "\n",
    "df = run_query(conn,query)\n",
    "print(df)"
   ]
  },
  {
   "cell_type": "code",
   "execution_count": null,
   "id": "a44017ff-1b38-4141-80ac-56a5ebe9c02f",
   "metadata": {},
   "outputs": [],
   "source": [
    "query = \"\"\"\n",
    "        SELECT loan_amnt,loan_id\n",
    "        FROM loans;\n",
    "        \"\"\"\n",
    "\n",
    "df = run_query(conn,query) \n",
    "\n",
    "plt.figure(figsize = (12,6))\n",
    "sns.kdeplot(data = df,x = 'loan_amnt',color = 'deeppink')\n",
    "plt.xticks(rotation = 45)\n",
    "plt.title('Loan Amount Probability Density Curve',fontweight = 'bold')\n",
    "plt.grid(True)\n",
    "plt.tight_layout()\n",
    "plt.show()"
   ]
  },
  {
   "cell_type": "markdown",
   "id": "1f43ab10-45c9-4a08-9d1a-94d9284d7286",
   "metadata": {},
   "source": [
    "### ***`Check range of term`***\n",
    "`Borrowers take loans with terms ranging from 36 to 60 months, with the average term settling at about 43 months. This indicates a stronger borrower preference for medium-duration repayment periods, balancing affordability of installments with overall interest burden.`"
   ]
  },
  {
   "cell_type": "code",
   "execution_count": null,
   "id": "784913ca-4f05-4e6a-ac1b-66c58af1d6d5",
   "metadata": {},
   "outputs": [],
   "source": [
    "query = \"\"\"SELECT MIN(term) AS min_term,\n",
    "           MAX(term) AS max_term,\n",
    "           AVG(term) AS avg_term\n",
    "           FROM loans;\"\"\"\n",
    "\n",
    "df = run_query(conn,query)\n",
    "print(df)"
   ]
  },
  {
   "cell_type": "markdown",
   "id": "22c315fb-1d15-4377-b24f-b4f3698e3140",
   "metadata": {},
   "source": [
    "### ***`Check range of int_rate`***\n",
    "`The interest rates on loans range from 5.3% to nearly 29%, with an average around 12.5%. The KDE curve shows most loans clustering in the lower-to-mid interest range, highlighting that while affordable credit is accessible to many, a noticeable share of borrowers—likely riskier profiles—face substantially higher rates.`"
   ]
  },
  {
   "cell_type": "code",
   "execution_count": null,
   "id": "464be9b2-8a97-43b8-b5d2-c242a7dad893",
   "metadata": {},
   "outputs": [],
   "source": [
    "query = \"\"\"SELECT MIN(int_rate) AS min_rate,\n",
    "             MAX(int_rate) AS max_rate,\n",
    "             AVG(int_rate) AS avg_rate\n",
    "             FROM loans;\"\"\"\n",
    "\n",
    "df = run_query(conn,query)\n",
    "print(df)"
   ]
  },
  {
   "cell_type": "code",
   "execution_count": null,
   "id": "dbcb8b37-9498-42dc-998b-bcda3c27c7ee",
   "metadata": {},
   "outputs": [],
   "source": [
    "query = \"\"\"\n",
    "        SELECT int_rate,loan_id\n",
    "        FROM loans;\n",
    "        \"\"\"\n",
    "\n",
    "df = run_query(conn,query) \n",
    "\n",
    "plt.figure(figsize = (12,6))\n",
    "sns.kdeplot(data = df,x = 'int_rate',color = 'cyan')\n",
    "plt.xticks(rotation = 45)\n",
    "plt.title('Interest Rate Probability Density Curve',fontweight = 'bold')\n",
    "plt.grid(True)\n",
    "plt.tight_layout()\n",
    "plt.show()"
   ]
  },
  {
   "cell_type": "markdown",
   "id": "930f6732-cdf6-4199-a708-133d3fd86587",
   "metadata": {},
   "source": [
    "### ***`Check range of dti`***\n",
    "`The DTI ratio among borrowers spans from 0 up to a very high 447.6, though the average is around 19.4. The probability density curve reveals that most borrowers fall within a reasonable DTI band, while a small fraction carry extremely high debt burdens relative to income. These extreme outliers highlight potential financial stress and default risk, making DTI a critical factor in lending decisions.`"
   ]
  },
  {
   "cell_type": "code",
   "execution_count": null,
   "id": "fd2e0b95-de9b-4863-92db-a619e14d18a8",
   "metadata": {},
   "outputs": [],
   "source": [
    "query = \"\"\"SELECT MIN(dti) AS min_dti,\n",
    "           MAX(dti) AS max_dti,\n",
    "           AVG(dti) AS avg_dti\n",
    "           FROM loans;\"\"\"\n",
    "\n",
    "df = run_query(conn,query)\n",
    "print(df)"
   ]
  },
  {
   "cell_type": "code",
   "execution_count": null,
   "id": "7cc08373-69e8-4391-a4b2-a4d0faa971f5",
   "metadata": {},
   "outputs": [],
   "source": [
    "query = \"\"\"\n",
    "        SELECT dti,loan_id\n",
    "        FROM loans;\n",
    "        \"\"\"\n",
    "\n",
    "df = run_query(conn,query) \n",
    "\n",
    "plt.figure(figsize = (12,6))\n",
    "sns.kdeplot(data = df,x = 'dti',color = 'deeppink')\n",
    "plt.xticks(rotation = 45)\n",
    "plt.title('DTI Probability Density Curve',fontweight = 'bold')\n",
    "plt.grid(True)\n",
    "plt.tight_layout()\n",
    "plt.show()"
   ]
  },
  {
   "cell_type": "markdown",
   "id": "49326c3d-c1dc-49de-95cc-08ae349d9e0a",
   "metadata": {},
   "source": [
    "### ***`Check range of delinq_2yrs`***\n",
    "`Most borrowers have zero delinquencies in the past 2 years, as reflected by the min and average values (0 and 0.348, respectively). However, a few borrowers have had as many as 22 delinquencies, creating a long-tailed distribution in the probability density curve. This shows that while the majority of borrowers are financially disciplined, a small fraction carry significant credit risk.`"
   ]
  },
  {
   "cell_type": "code",
   "execution_count": null,
   "id": "49a11a37-5c09-4cac-a103-ffcd3cb91113",
   "metadata": {},
   "outputs": [],
   "source": [
    "query = \"\"\"SELECT MIN(delinq_2yrs) AS min_delinq_2yrs,\n",
    "           MAX(delinq_2yrs) AS max_delinq_2yrs,\n",
    "           AVG(delinq_2yrs) AS avg_delinq_2yrs\n",
    "           FROM loans;\"\"\"\n",
    "\n",
    "df = run_query(conn,query)\n",
    "print(df)"
   ]
  },
  {
   "cell_type": "code",
   "execution_count": null,
   "id": "1fabe3a6-4f93-4bcc-862d-a1a54c8f1938",
   "metadata": {},
   "outputs": [],
   "source": [
    "query = \"\"\"\n",
    "        SELECT delinq_2yrs,loan_id\n",
    "        FROM loans;\n",
    "        \"\"\"\n",
    "\n",
    "df = run_query(conn,query) \n",
    "\n",
    "plt.figure(figsize = (12,6))\n",
    "sns.kdeplot(data = df,x = 'delinq_2yrs',color = 'cyan')\n",
    "plt.xticks(rotation = 45)\n",
    "plt.title('Delinq_2yrs Probability Density Curve',fontweight = 'bold')\n",
    "plt.grid(True)\n",
    "plt.tight_layout()\n",
    "plt.show()"
   ]
  },
  {
   "cell_type": "markdown",
   "id": "16f6a952-801d-476f-b638-1448da8f8176",
   "metadata": {},
   "source": [
    "### ***`Check range of revol_util`***\n",
    "`The revolving credit utilization among borrowers shows a wide range, from 0% to an extreme 172%, with an average around 52%. The KDE curve highlights that most borrowers maintain moderate utilization, but some exceed their credit limits, indicating potential over-leveraging. This variable is key for assessing credit risk, as higher utilization generally signals higher likelihood of default.`"
   ]
  },
  {
   "cell_type": "code",
   "execution_count": null,
   "id": "79093650-aab0-4f17-80a5-a4a5c79201b9",
   "metadata": {},
   "outputs": [],
   "source": [
    "query = \"\"\"SELECT MIN(revol_util) AS min_revol_util,\n",
    "           MAX(revol_util) AS max_revol_util,\n",
    "           AVG(revol_util) AS avg_revol_util\n",
    "           FROM loans;\"\"\"\n",
    "\n",
    "df = run_query(conn,query)\n",
    "print(df)"
   ]
  },
  {
   "cell_type": "code",
   "execution_count": null,
   "id": "b741f41c-3bc7-4629-96cc-5cd59c0b5dff",
   "metadata": {},
   "outputs": [],
   "source": [
    "query = \"\"\"\n",
    "        SELECT revol_util,loan_id\n",
    "        FROM loans;\n",
    "        \"\"\"\n",
    "\n",
    "df = run_query(conn,query) \n",
    "\n",
    "plt.figure(figsize = (12,6))\n",
    "sns.kdeplot(data = df,x = 'revol_util',color = 'deeppink')\n",
    "plt.xticks(rotation = 45)\n",
    "plt.title('Revol_Util Probability Density Curve',fontweight = 'bold')\n",
    "plt.grid(True)\n",
    "plt.tight_layout()\n",
    "plt.show()"
   ]
  },
  {
   "cell_type": "markdown",
   "id": "f65a1760-fbe9-433c-bb60-b4c81150c3c1",
   "metadata": {},
   "source": [
    "### ***`Check total borrowers by distinct grade values`***\n",
    "`The distribution of borrowers across loan grades is heavily skewed toward the mid-range grades, with B (55%) and C (52%) having the largest share of borrowers. Grades A and D–G have fewer borrowers, with the highest-risk grade G representing only about 1.6% of the total. The bar and pie plots together highlight that most borrowers fall into moderate-risk categories, while very high- or low-risk borrowers are comparatively rare, guiding lenders in portfolio targeting and risk management.`"
   ]
  },
  {
   "cell_type": "code",
   "execution_count": null,
   "id": "80692f49-4ccb-4546-a277-6dbfc5e0cf66",
   "metadata": {},
   "outputs": [],
   "source": [
    "query = \"\"\"SELECT grade, COUNT(DISTINCT(borrower_id)) AS 'total_count',\n",
    "            COUNT(DISTINCT(borrower_id)) * 100/ (SELECT COUNT(borrower_id) FROM borrowers) AS 'per_grade_borrower_ratio'\n",
    "            FROM loans\n",
    "            GROUP BY grade\n",
    "            ORDER BY grade;\"\"\"\n",
    "\n",
    "df = run_query(conn,query)\n",
    "print(df,end = '\\n\\n')\n",
    "\n",
    "fig,ax = plt.subplots(nrows = 1,ncols = 2, figsize = (15,6))\n",
    "\n",
    "sns.barplot(data = df,hue = 'grade', y = 'total_count',palette = 'inferno',ax = ax[0])\n",
    "ax[0].legend(title=\"Grade\")\n",
    "ax[0].grid(True)\n",
    "ax[0].set_title('Frequency Count of Borrowers by Grade',fontweight = 'bold')\n",
    "\n",
    "ax[1].pie(df['per_grade_borrower_ratio'],autopct = '%1.2f%%',colors = sns.color_palette('Set3'))\n",
    "ax[1].legend(labels = df['grade'],title = \"Grade\")\n",
    "ax[1].set_title('Proportion of All Borrowers by Loan Grade',fontweight = 'bold')\n",
    "\n",
    "plt.tight_layout()\n",
    "plt.show()"
   ]
  },
  {
   "cell_type": "markdown",
   "id": "74fcfbba-67e4-4806-90a0-4733651fa254",
   "metadata": {},
   "source": [
    "### ***`Check total borrowers by distinct purpose values`***\n",
    "`The majority of borrowers take loans for debt consolidation (82%) and credit card repayment (47%), making these two purposes dominant in the portfolio. Other purposes like home improvement, major purchases, or small business account for a much smaller share. The bar and pie plots emphasize that lenders are primarily exposed to borrowers managing existing debts, highlighting the importance of tailored risk assessment and repayment support strategies for these high-volume segments.`"
   ]
  },
  {
   "cell_type": "code",
   "execution_count": null,
   "id": "6077e12f-2bcb-4cbf-9053-e41a2ec79972",
   "metadata": {},
   "outputs": [],
   "source": [
    "query = \"\"\"SELECT purpose, COUNT(DISTINCT(borrower_id)) AS 'total_borrowers',\n",
    "            COUNT(DISTINCT(borrower_id)) * 100/ (SELECT COUNT(borrower_id) FROM  borrowers) AS 'percent_borrowers_per_purpose'\n",
    "            FROM loans\n",
    "            GROUP BY purpose\n",
    "            ORDER BY total_borrowers DESC;\"\"\"\n",
    "\n",
    "df = run_query(conn,query)\n",
    "print(df,end = '\\n\\n')\n",
    "\n",
    "fig,ax = plt.subplots(nrows = 1,ncols = 2, figsize = (15,6))\n",
    "\n",
    "sns.barplot(data = df,hue = 'purpose', y = 'total_borrowers',palette = 'rainbow',ax = ax[0])\n",
    "ax[0].legend(title=\"Purpose\")\n",
    "ax[0].grid(True)\n",
    "ax[0].set_title('Frequency Count of Borrowers by Purpose',fontweight = 'bold')\n",
    "\n",
    "ax[1].pie(df['percent_borrowers_per_purpose'].head(6),autopct = '%1.1f%%',colors = sns.color_palette('viridis'))\n",
    "ax[1].legend(labels = df['purpose'],title=\"Purpose\")\n",
    "ax[1].set_title('Proportion of All Borrowers by Distinct Purpose',fontweight = 'bold')\n",
    "\n",
    "plt.tight_layout()\n",
    "plt.show()"
   ]
  },
  {
   "cell_type": "markdown",
   "id": "8a6f7b94-1fa2-45e8-bdeb-3f1a42ff17eb",
   "metadata": {},
   "source": [
    "### ***`Check total borrowers by distinct loan_status values`***\n",
    "`Most borrowers are current on their loans (80%), while fully paid loans make up nearly 58% of all borrowers, indicating a strong repayment trend overall. However, a notable 25% of borrowers have charged-off loans, highlighting a substantial risk segment. Smaller portions of loans are either late (5%) or in grace period (2%), signaling pockets where monitoring and proactive collection strategies could mitigate potential defaults. The bar and pie plots clearly illustrate the distribution and relative scale of these repayment statuses.`"
   ]
  },
  {
   "cell_type": "code",
   "execution_count": null,
   "id": "11e03b3e-2d22-4f75-92c2-a8b24a8becfb",
   "metadata": {},
   "outputs": [],
   "source": [
    "query = \"\"\"SELECT loan_status, COUNT(DISTINCT(borrower_id)) AS 'total_count',\n",
    "            COUNT(DISTINCT(borrower_id)) * 100/ (SELECT COUNT(DISTINCT(borrower_id)) FROM loans) AS 'percent_borrowers'\n",
    "            FROM loans\n",
    "            GROUP BY loan_status\n",
    "            ORDER BY total_count DESC;\n",
    "            \"\"\"\n",
    "\n",
    "df = run_query(conn,query)\n",
    "print(df,end = '\\n\\n')\n",
    "\n",
    "fig,ax = plt.subplots(nrows = 1,ncols = 2, figsize = (15,6))\n",
    "\n",
    "sns.barplot(data = df,hue = 'loan_status', y = 'total_count',palette = 'inferno',ax = ax[0])\n",
    "ax[0].legend(title=\"Loan Status\")\n",
    "ax[0].grid(True)\n",
    "ax[0].set_title('Frequency Count of Borrowers by Loan Status',fontweight = 'bold')\n",
    "\n",
    "ax[1].pie(df['percent_borrowers'],autopct = '%1.1f%%',colors = sns.color_palette('rainbow'))\n",
    "ax[1].legend(labels = df['loan_status'],title = \"Loan Status\")\n",
    "ax[1].set_title('Proportion of All Borrowers by Distinct Loan Status',fontweight = 'bold')\n",
    "\n",
    "plt.tight_layout()\n",
    "plt.show()"
   ]
  },
  {
   "cell_type": "code",
   "execution_count": null,
   "id": "30410ed0-6df1-4032-aed1-c8b7872d727c",
   "metadata": {},
   "outputs": [],
   "source": []
  },
  {
   "cell_type": "markdown",
   "id": "d180a184-6286-4259-bb35-ee59c2d57408",
   "metadata": {},
   "source": [
    "# ***KEY AREAS OF ANALYSIS***"
   ]
  },
  {
   "cell_type": "markdown",
   "id": "7520610f-96b7-4ff5-a45e-591350345c41",
   "metadata": {},
   "source": [
    "# ***`A. Borrower Profile Analysis- \"What kind of customers are we lending to?\"`***\n",
    "\n",
    "### ***`Before lending money, banks must understand who their customers are. This section builds a borrower profile to reveal their income, employment, home ownership, and financial strength.`***\n",
    "\n",
    "### ***`Summary- `***\n",
    "`The borrower base is largely middle-income, with most earning between $50k–$100k, and concentrated in stable employment (3–9 years). Mortgage holders and verified borrowers tend to have higher incomes, though a notable subset of high-income renters exists, highlighting exceptions to traditional ownership-income patterns. Repeat borrowing is common, with borrowers often holding multiple loans and high total accounts, indicating potential exposure to over-leverage. Employment length and verification status together reveal that longer-tenured and verified borrowers consistently earn more, while very few high-income borrowers carry excessive debt (DTI > 43%). Overall, the portfolio shows a mix of moderate-to-high financial activity, underlining the importance of income verification, employment stability, and careful monitoring of repeat borrowers for managing lending risk.`"
   ]
  },
  {
   "cell_type": "code",
   "execution_count": null,
   "id": "cf1d8af3-3d3f-4639-8fe6-6f32038e9349",
   "metadata": {},
   "outputs": [],
   "source": []
  },
  {
   "cell_type": "markdown",
   "id": "c83adc96-9da8-42d5-99b7-d5d1c8dba56b",
   "metadata": {},
   "source": [
    "### ***`1. Total Borrowers by Number of Loans. Identifies repeat borrowers and potential over-leverage.`***\n",
    "`The borrower base is remarkably evenly distributed across the number of loans, with roughly 25% of borrowers having 1, 2, 3, or 4 loans. This indicates a balanced mix of single-loan and repeat borrowers. From a risk perspective, while repeat borrowers may bring experience and loyalty, they could also signal potential over-leverage, which the bank should monitor carefully. Overall, the lending portfolio does not appear heavily concentrated in any single borrower segment based on the number of loans.`"
   ]
  },
  {
   "cell_type": "code",
   "execution_count": null,
   "id": "92dcd4a6-3eba-4a0e-bacd-6cea20fda350",
   "metadata": {},
   "outputs": [],
   "source": [
    "query = \"\"\"SELECT num_loans,COUNT(borrower_id) AS 'num_borrowers',\n",
    "            COUNT(borrower_id) * 100 / (SELECT COUNT(borrower_id) FROM borrowers) AS 'percent_borrowers'\n",
    "            FROM (SELECT borrower_id, COUNT(loan_id) AS 'num_loans' FROM loans\n",
    "                   GROUP BY borrower_id\n",
    "                   ORDER BY num_loans DESC) t\n",
    "            GROUP BY num_loans\n",
    "            ORDER BY num_loans DESC;\"\"\"\n",
    "\n",
    "df = run_query(conn,query)\n",
    "print(df)"
   ]
  },
  {
   "cell_type": "markdown",
   "id": "f04d68de-e2b6-4b3b-98e9-d89a72b489c9",
   "metadata": {},
   "source": [
    "### ***`2. Average Income by Home Ownership. Helps check whether owning or renting affects income levels.`***\n",
    "`Income levels vary noticeably across home ownership types. Borrowers with a mortgage have the highest average annual income ($91k), followed by those who own their homes outright ($78.5k), while renters earn the least on average (~ $68.5k). This suggests that home ownership correlates with financial capacity, and lending strategies could factor in ownership status as a proxy for income strength and repayment ability.`"
   ]
  },
  {
   "cell_type": "code",
   "execution_count": null,
   "id": "60468b2e-e043-4103-9b5f-30d1ca35df82",
   "metadata": {},
   "outputs": [],
   "source": [
    "query = \"\"\"SELECT home_ownership,\n",
    "            ROUND(AVG(annual_inc) ,2) AS 'avg_annual_inc_per_home_ownership'\n",
    "            FROM borrowers\n",
    "            GROUP BY home_ownership\n",
    "            ORDER BY avg_annual_inc_per_home_ownership DESC;\"\"\"\n",
    "\n",
    "df = run_query(conn,query)\n",
    "print(df)\n",
    "\n",
    "sns.barplot(data = df,hue = 'home_ownership', y = 'avg_annual_inc_per_home_ownership',palette = 'rainbow')\n",
    "plt.grid(True)\n",
    "plt.title('Average Income by Home Ownership',fontweight = 'bold')\n",
    "plt.yticks(ticks = range(20000,90001,10000))\n",
    "plt.show()"
   ]
  },
  {
   "cell_type": "markdown",
   "id": "47481700-7a3f-4236-b81a-34996b57046c",
   "metadata": {},
   "source": [
    "### ***`3. Borrowers with High Total Accounts. Borrowers with total_acc > 25 are often considered higher credit risk, since too many credit accounts can lead to overextension, difficulty tracking payments, and increased probability of delinquency.`***\n",
    "`A significant portion of borrowers—about 20,513 individuals, or 41% of the total—have more than 25 credit accounts. This indicates a substantial segment of borrowers who may be over-leveraged, potentially facing difficulty managing multiple credit lines. Banks should monitor these borrowers closely, as high total accounts can increase the likelihood of late payments or defaults.`"
   ]
  },
  {
   "cell_type": "code",
   "execution_count": null,
   "id": "7b20d28b-f954-498f-b514-a762bb2200a8",
   "metadata": {},
   "outputs": [],
   "source": [
    "query = \"\"\"SELECT COUNT(*) AS 'total_borrowers' , COUNT(*) * 100 / (SELECT COUNT(borrower_id) FROM borrowers) AS 'percent_borrowers' \n",
    "            FROM(SELECT borrower_id,total_acc FROM borrowers\n",
    "                    WHERE total_acc > 25\n",
    "                    ORDER BY total_acc DESC) t;\"\"\"\n",
    "\n",
    "df = run_query(conn,query)\n",
    "print(df,end='\\n\\n')\n",
    "print('Total Borrowers with Hight Total Accounts are',int(df['total_borrowers'].values[0]),'which is',round(df['percent_borrowers'].values[0],2),\n",
    "      'of total borrowers.')"
   ]
  },
  {
   "cell_type": "markdown",
   "id": "764e9764-e305-4728-9cf9-affdd8c3b29d",
   "metadata": {},
   "source": [
    "### ***`4. Borrower Income Brackets. Gives a real-world income segmentation of the borrower base, showing which class dominates the portfolio. `***\n",
    "`The majority of borrowers fall into the Middle ($50k–$100k) income bracket, making up 50% of the portfolio, followed by Lower-Middle ($25k–$50k) at 27%. High-income borrowers (>$200k) represent only a small fraction, less than 3% combined. This shows that the lending portfolio is primarily composed of middle-income individuals, highlighting the bank’s focus on mainstream borrowers rather than ultra-wealthy clients.`"
   ]
  },
  {
   "cell_type": "code",
   "execution_count": null,
   "id": "04b81112-dd18-49c2-a1dc-2dce090add68",
   "metadata": {},
   "outputs": [],
   "source": [
    "query = \"\"\"SELECT t.income_bin,COUNT(*) AS 'num_borrowers', COUNT(*) * 100 / (SELECT COUNT(borrower_id) FROM borrowers) AS 'percent_borrowers'\n",
    "            FROM\n",
    "                (SELECT annual_inc,\n",
    "                  CASE\n",
    "                    WHEN annual_inc < 25000 THEN 'Low (<$25k)'\n",
    "                    WHEN annual_inc BETWEEN 25000 AND 50000 THEN 'Lower-Middle ($25k-$50k)'\n",
    "                    WHEN annual_inc BETWEEN 50001 AND 100000 THEN 'Middle ($50k-$100k)'\n",
    "                    WHEN annual_inc BETWEEN 100001 AND 200000 THEN 'Upper-Middle ($100k-$200k)'\n",
    "                    WHEN annual_inc BETWEEN 200001 AND 500000 THEN 'High ($200k-$500k)'\n",
    "                    WHEN annual_inc BETWEEN 500001 AND 1000000 THEN 'Very High ($500k-$1M)'\n",
    "                    ELSE 'Ultra High (>$1M)'\n",
    "                 END AS 'income_bin'\n",
    "               FROM borrowers)  t\n",
    "            GROUP BY t.income_bin\n",
    "            ORDER BY num_borrowers DESC;\"\"\"\n",
    "\n",
    "df = run_query(conn,query)\n",
    "print(df)\n",
    "\n",
    "fig,ax = plt.subplots(nrows = 1,ncols = 2, figsize = (15,6))\n",
    "\n",
    "sns.barplot(data = df,hue = 'income_bin', y = 'num_borrowers',palette = 'rainbow',ax = ax[0])\n",
    "ax[0].legend(title=\"Income Bin\")\n",
    "ax[0].grid(True)\n",
    "ax[0].set_title('Frequency Count of Borrowers by Income Class',fontweight = 'bold')\n",
    "\n",
    "ax[1].pie(df['percent_borrowers'],autopct = '%1.1f%%',colors = sns.color_palette('inferno'))\n",
    "ax[1].legend(labels = df['income_bin'],title = \"Income Bin\",loc = 'best')\n",
    "ax[1].set_title('Percentage Borrowers by Income Class',fontweight = 'bold')\n",
    "\n",
    "plt.tight_layout()\n",
    "plt.show()"
   ]
  },
  {
   "cell_type": "markdown",
   "id": "7f3774ff-d639-4f94-b358-af86fafc2363",
   "metadata": {},
   "source": [
    "### ***`5. Employment Length Segmentation. Longer employment usually reflects stability; useful for assessing repayment capacity.`***\n",
    "`Borrowers with longer employment histories generally earn higher incomes, with those employed 7–9 years averaging around $82–83k annually. Shorter-tenured employees, particularly those with 2 years of experience, earn noticeably less, around $73k. This indicates that employment stability correlates with higher earning capacity, helping lenders gauge repayment reliability.`"
   ]
  },
  {
   "cell_type": "code",
   "execution_count": null,
   "id": "68b83dd4-51da-4cbe-9d4c-91c228f2a0ab",
   "metadata": {},
   "outputs": [],
   "source": [
    "query = \"\"\"SELECT emp_length, ROUND(AVG(annual_inc),2) AS 'avg_annual_income_in$'\n",
    "            FROM borrowers\n",
    "            GROUP BY emp_length\n",
    "            ORDER BY emp_length DESC;\"\"\"\n",
    "\n",
    "df = run_query(conn,query)\n",
    "print(df)"
   ]
  },
  {
   "cell_type": "code",
   "execution_count": null,
   "id": "b68079bb-4191-4379-83c8-ef186ac3f8bd",
   "metadata": {},
   "outputs": [],
   "source": [
    "query = \"\"\"SELECT emp_length,annual_inc\n",
    "            FROM borrowers;\"\"\"\n",
    "\n",
    "df = run_query(conn,query)\n",
    "\n",
    "sns.barplot(data = df,hue = 'emp_length', y = 'annual_inc',palette = 'rainbow',estimator = np.mean,errorbar = None,legend = False)\n",
    "plt.legend(['2','3','4','5','6','7','8','9'])\n",
    "plt.grid(True)\n",
    "plt.title('Average Income by Employment Length',fontweight = 'bold')\n",
    "plt.yticks(ticks = range(20000,90001,10000))\n",
    "plt.show()"
   ]
  },
  {
   "cell_type": "markdown",
   "id": "e764c99c-6e4a-48eb-8ecb-58117f4d0e36",
   "metadata": {},
   "source": [
    "### ***`6. Verification Status vs Income. Tests whether verified borrowers report different income levels than non-verified ones.`***\n",
    "`Verified borrowers report slightly higher average incomes ($81k) compared to non-verified ones ($79k). This suggests that income verification may be associated with higher-earning borrowers, highlighting that verification could serve as a signal of borrower financial strength and potential repayment capacity.`"
   ]
  },
  {
   "cell_type": "code",
   "execution_count": null,
   "id": "5348ff94-37a3-491a-a202-e32280248aac",
   "metadata": {},
   "outputs": [],
   "source": [
    "query = \"\"\"SELECT verification_status, ROUND(AVG(annual_inc),2) AS 'avg_annual_inc_in$'\n",
    "            FROM borrowers\n",
    "            GROUP BY verification_status\n",
    "            ORDER BY avg_annual_inc_in$;\"\"\"\n",
    "\n",
    "df = run_query(conn,query)\n",
    "print(df)\n",
    "\n",
    "sns.barplot(data = df,hue = 'verification_status', y = 'avg_annual_inc_in$',palette = 'rainbow')\n",
    "plt.grid(True)\n",
    "plt.title('Average Income by Verification Status',fontweight = 'bold')\n",
    "plt.show()"
   ]
  },
  {
   "cell_type": "markdown",
   "id": "2d476d9c-1e3c-486e-8862-a8a7e55f638a",
   "metadata": {},
   "source": [
    "### ***`7. Renters with High Income. Some people who earn a lot of money(>100K) are still living in rented houses. This is unusual, and lenders might want to look into why this happens because it doesn't follow the usual pattern of more income -> more likely to own a home.`***\n",
    "`Around 2,777 borrowers, roughly 6% of the total, are high-income earners (> $100k) who still rent their homes. This is an unusual pattern since higher income typically correlates with homeownership. Lenders may want to investigate these borrowers further, as their behavior could signal unique financial strategies or potential risks.`"
   ]
  },
  {
   "cell_type": "code",
   "execution_count": null,
   "id": "b5dc8e5b-c984-4979-953c-0b02f8341122",
   "metadata": {},
   "outputs": [],
   "source": [
    "query = \"\"\"SELECT COUNT(*) AS 'Renters with High Income',\n",
    "            COUNT(*) * 100 / (SELECT COUNT(borrower_id) FROM borrowers) AS 'percent_renters_with_high_inc'\n",
    "            FROM borrowers\n",
    "            WHERE home_ownership = 'RENT' AND annual_inc > 100000;\"\"\"\n",
    "\n",
    "df = run_query(conn,query)\n",
    "print(df,end = '\\n\\n')\n",
    "print('Renters with high income are',df['Renters with High Income'].values[0],'which is',\n",
    "      round(df['percent_renters_with_high_inc'].values[0]),'percent of total borrowers.')"
   ]
  },
  {
   "cell_type": "markdown",
   "id": "2e912e7d-c6d9-49f2-8422-f3b08901629b",
   "metadata": {},
   "source": [
    "### ***`8. High Income + High DTI Borrowers [High risk: > 43% (many lenders use 43% as a cutoff)]. Even wealthy borrowers can be risky if they carry too much debt.`***\n",
    "`Only 23 borrowers, representing a tiny 0.046% of the portfolio, combine high income with a dangerously high debt-to-income ratio (>43%). While wealthy, these borrowers carry significant debt, making them a concentrated high-risk group that lenders should monitor closely despite their small numbers.`"
   ]
  },
  {
   "cell_type": "code",
   "execution_count": null,
   "id": "5f6cceaa-cbf6-46be-a6f1-3e7658aa8634",
   "metadata": {},
   "outputs": [],
   "source": [
    "query = \"\"\"SELECT COUNT(*) AS 'num_borrowers', COUNT(*) * 100 / (SELECT COUNT(borrower_id) FROM borrowers) AS 'percent_borrowers'\n",
    "            FROM loans t1\n",
    "            JOIN borrowers t2\n",
    "            ON t1.borrower_id = t2.borrower_id\n",
    "            WHERE t1.dti > 43  AND t2.annual_inc > 200000;\"\"\"\n",
    "\n",
    "df = run_query(conn,query)\n",
    "print('The borrowers with High Income + High DTI are',df['num_borrowers'].values[0],'which is',df['percent_borrowers'].values[0],\n",
    "      'percent of total borrowers')"
   ]
  },
  {
   "cell_type": "markdown",
   "id": "23f1b1b4-d696-4563-a2d7-fba14507258e",
   "metadata": {},
   "source": [
    "### ***`9. Average Annual Income By Employment Length + Verification Segmentation. Reveals combined effect of work history and verified income on borrower profiles.`***\n",
    "`Borrowers with longer employment histories tend to report higher incomes, and verified borrowers consistently earn more than non-verified ones across all employment lengths. The difference is most pronounced among mid- to long-tenure employees (5–7 years), highlighting that income verification not only confirms reported earnings but also correlates with stronger, more stable borrower profiles.`"
   ]
  },
  {
   "cell_type": "code",
   "execution_count": null,
   "id": "c1f3ac80-64ec-42b0-a208-b86a568538dd",
   "metadata": {},
   "outputs": [],
   "source": [
    "query = \"\"\"SELECT emp_length,verification_status,COUNT(*) AS 'num_borrowers',\n",
    "            ROUND(AVG(annual_inc),2) AS 'avg_annual_inc_in$'\n",
    "            FROM borrowers\n",
    "            GROUP BY emp_length,verification_status\n",
    "            ORDER BY emp_length DESC,num_borrowers DESC;\"\"\"\n",
    "\n",
    "df = run_query(conn,query)\n",
    "print(df)\n",
    "\n",
    "fig,ax = plt.subplots(nrows = 1,ncols = 2,figsize = (15,6))\n",
    "\n",
    "sns.barplot(data = df,x = 'emp_length',y = 'num_borrowers',hue = 'verification_status',palette ='rainbow',ax = ax[0])\n",
    "ax[0].grid(True)\n",
    "ax[0].set_title('Total Borrowers By Distinct Emp_Length & Verification Status',fontweight = 'bold')\n",
    "\n",
    "sns.barplot(data = df,x = 'emp_length',y = 'avg_annual_inc_in$',hue = 'verification_status',palette = 'coolwarm',ax = ax[1])\n",
    "ax[1].grid(True)\n",
    "ax[1].set_title('Avg Annual Income By Disinct Emp _Length & Verification Status',fontweight = 'bold')\n",
    "\n",
    "plt.tight_layout()\n",
    "plt.show()"
   ]
  },
  {
   "cell_type": "markdown",
   "id": "07de3fdb-9bb2-4221-abf2-e103eab62f37",
   "metadata": {},
   "source": [
    "### ***`10. Average Annual Income By Number of loans + Verification Status. Exploring How Annual Income & Verification Status Influences the Number of Loans Taken`***\n",
    "`Verified borrowers not only tend to earn slightly higher incomes than non-verified ones but also dominate across all categories of loan counts. Interestingly, borrowers with multiple loans (2–4) are predominantly verified and represent a larger share of the portfolio, suggesting that lenders rely more on verified income reports when approving repeat loans. This reinforces the role of verification in both risk assessment and portfolio management.`"
   ]
  },
  {
   "cell_type": "code",
   "execution_count": null,
   "id": "9963ee17-e6c1-441b-9688-90823bdd96bb",
   "metadata": {},
   "outputs": [],
   "source": [
    "query = \"\"\"SELECT t1.num_loans,t2.verification_status,COUNT(t2.borrower_id) AS 'num_borrowers',\n",
    "            ROUND(COUNT(t2.borrower_id) * 100 / (SELECT COUNT(borrower_id) FROM borrowers),2) AS 'percent_borrowers', \n",
    "            ROUND(AVG(t2.annual_inc),2) AS 'avg_annual_inc_in$'\n",
    "            FROM (SELECT borrower_id, COUNT(loan_id) AS 'num_loans' FROM loans\n",
    "                   GROUP BY borrower_id\n",
    "                   ORDER BY num_loans DESC) t1\n",
    "            JOIN borrowers t2 \n",
    "            ON t1.borrower_id = t2.borrower_id\n",
    "            GROUP BY t1.num_loans,t2.verification_status\n",
    "            ORDER BY t1.num_loans DESC;\"\"\"\n",
    "\n",
    "df = run_query(conn,query)\n",
    "print(df)\n",
    "\n",
    "fig,ax = plt.subplots(nrows = 1,ncols = 2,figsize = (15,6))\n",
    "\n",
    "sns.barplot(data = df,x = 'num_loans', y = 'avg_annual_inc_in$',hue = 'verification_status',palette = 'coolwarm',ax = ax[0])\n",
    "ax[0].set_title('Avg Annual Income By Num_Loans & Verification Status',fontweight = 'bold')\n",
    "ax[0].legend(title = 'verification_status',loc = 'lower right')\n",
    "ax[0].grid(True)\n",
    "\n",
    "sns.barplot(data = df,x = 'num_loans',y = 'percent_borrowers',hue = 'verification_status',palette = 'rainbow',ax = ax[1])\n",
    "ax[1].set_title('Percent Borrowers By Num_Loans & Verification Status',fontweight = 'bold')\n",
    "ax[1].legend(title = 'verification_status',loc = 'lower right')\n",
    "ax[1].grid(True)\n",
    "\n",
    "plt.tight_layout()\n",
    "plt.show()"
   ]
  },
  {
   "cell_type": "code",
   "execution_count": null,
   "id": "5a35ef17-d344-490c-8208-4880075a3feb",
   "metadata": {},
   "outputs": [],
   "source": []
  },
  {
   "cell_type": "code",
   "execution_count": null,
   "id": "cd220af6-e512-4371-a0b5-2c013c37ab4f",
   "metadata": {},
   "outputs": [],
   "source": []
  },
  {
   "cell_type": "markdown",
   "id": "65901a5d-2e72-417c-b978-009a17827f1d",
   "metadata": {},
   "source": [
    "# ***`B. Loan Portfolio Overview- \"What does our loan portfolio look like?\"`***\n",
    "\n",
    "### ***`Every financial institution must know where its money is going. Here, we analyze the portfolio of loans issued, studying their amounts, terms, grades, and purposes to see how the banks allocates credit.`***\n",
    "\n",
    "### ***`Summary- `***\n",
    "\n",
    "`The loan portfolio overview reveals that most lending is concentrated in medium-term (36 months) loans, with average amounts around $13–21K depending on the term. Higher-risk grades (D–G) tend to have higher interest rates and slightly larger loans, while safer grades (A–C) dominate the number of loans issued. Debt consolidation and credit card purposes are the largest drivers of the portfolio, both in number and total loan amount, whereas niche purposes like small business, home improvement, and renewable energy contribute minimally. High-risk borrowers often have high revolving utilization or costly loans, as seen in the top-ranked loans with high interest rates and DTI, highlighting potential default risks. Combined analyses by term, grade, and purpose show that longer-term and higher-purpose loans carry higher rates, and the grade-purpose stack plots indicate moderate diversification with heavy concentration in a few key segments. The plots effectively visualize distributions, comparisons, and portfolio concentration, helping identify where credit exposure is highest.`"
   ]
  },
  {
   "cell_type": "code",
   "execution_count": null,
   "id": "5eb0baba-8dbb-4303-9384-177393958c00",
   "metadata": {},
   "outputs": [],
   "source": []
  },
  {
   "cell_type": "markdown",
   "id": "2783df87-01f6-4795-a80b-dfdce21fbfd2",
   "metadata": {},
   "source": [
    "### ***`11. Loan Amounts by Term. Helps compare lending strategies in short-term vs long-term loans.`***\n",
    "`The analysis shows a clear distinction between short-term (36 months) and long-term (60 months) loans. While short-term loans dominate the portfolio by number of loans, averaging around $13.7k, they account for roughly 62% of total loans issued. In contrast, long-term loans are fewer but larger, averaging $20.9k, contributing 38% to the portfolio. This indicates the bank balances between frequent smaller loans and less frequent larger commitments, diversifying risk and catering to different borrower needs.`"
   ]
  },
  {
   "cell_type": "code",
   "execution_count": null,
   "id": "42391e74-d347-4379-8d3b-9958fefaf98c",
   "metadata": {},
   "outputs": [],
   "source": [
    "query = \"\"\"SELECT term, ROUND(AVG(loan_amnt),2) AS 'avg_loan_amnt_per_term',\n",
    "            ROUND(SUM(loan_amnt) * 100 / (SELECT SUM(loan_amnt) FROM loans),2) AS 'percent_loan_amnt'\n",
    "            FROM loans\n",
    "            GROUP BY term\n",
    "            ORDER BY term;\"\"\"\n",
    "\n",
    "df = run_query(conn,query)\n",
    "print(df)\n",
    "\n",
    "fig,ax = plt.subplots(nrows = 1,ncols = 2,figsize = (15,6))\n",
    "\n",
    "sns.barplot(data = df,hue = 'term',y = 'avg_loan_amnt_per_term',palette = 'rainbow',ax = ax[0])\n",
    "ax[0].grid(True)\n",
    "ax[0].set_title('Avg Loan Amount By Term',fontweight = 'bold')\n",
    "\n",
    "ax[1].pie(df['percent_loan_amnt'],autopct = '%1.2f%%',hatch = ['**O', 'oO'],pctdistance = 1.15,colors = sns.color_palette('Set2'))\n",
    "ax[1].legend(labels = df['term'],loc = 'best',title = 'term')\n",
    "ax[1].set_title('Percent Loan Amount by Term',fontweight = 'bold')\n",
    "\n",
    "plt.tight_layout()\n",
    "plt.show()      "
   ]
  },
  {
   "cell_type": "markdown",
   "id": "769e68f8-8d9d-4294-aef2-9a8d01a283b8",
   "metadata": {},
   "source": [
    "### ***`12. Loan Amounts by Grade. Assesses whether higher credit grades qualify for larger loans.`***\n",
    "`The portfolio shows that mid-range grades (B and C) dominate the total loan share, together accounting for over 55% of the portfolio, even though their average loan amounts ($14.6k–$15.9k) are moderate. Higher-risk grades (E, F, G) receive fewer loans but at higher average amounts ($18.5k–$19.6k), suggesting the bank extends larger loans to riskier borrowers, likely for higher interest returns. Conversely, top-grade borrowers (A) get moderate loan amounts but still represent a significant 19% of the portfolio, reflecting conservative lending to low-risk clients.`"
   ]
  },
  {
   "cell_type": "code",
   "execution_count": null,
   "id": "6fe33061-0143-4da9-a020-af83ba94a50e",
   "metadata": {},
   "outputs": [],
   "source": [
    "query = \"\"\"SELECT grade, ROUND(AVG(loan_amnt),2) AS 'avg_loan_per_grade',\n",
    "            ROUND(SUM(loan_amnt) * 100 / (SELECT SUM(loan_amnt) FROM loans),2) AS 'percent_loan_amnt'\n",
    "            FROM loans\n",
    "            GROUP BY grade\n",
    "            ORDER BY grade;\"\"\"\n",
    "\n",
    "df = run_query(conn,query)\n",
    "print(df)\n",
    "\n",
    "fig,ax = plt.subplots(nrows = 1,ncols = 2,figsize = (15,6))\n",
    "\n",
    "sns.barplot(data = df,hue = 'grade',y = 'avg_loan_per_grade',palette = 'rainbow',ax = ax[0])\n",
    "ax[0].grid(True)\n",
    "ax[0].set_title('Avg Loan Amount By Disticnt Grade',fontweight = 'bold')\n",
    "\n",
    "ax[1].pie(df['percent_loan_amnt'],autopct = '%1.2f%%',hatch = ['*','.','\\\\','||','oO','+','-O-'],\n",
    "          pctdistance = 1.15,colors = sns.color_palette('inferno'))\n",
    "ax[1].legend(labels = df['grade'],loc = 'best',title = 'grade')\n",
    "ax[1].set_title('Percent Loan Amount By Disticnt Grade',fontweight = 'bold')\n",
    "\n",
    "plt.tight_layout()\n",
    "plt.show()"
   ]
  },
  {
   "cell_type": "markdown",
   "id": "9b78c813-3dc6-47c2-8ca9-f79f5b52b6b4",
   "metadata": {},
   "source": [
    "### ***`13. Interest Rates and Total Loans by Grade. Confirms whether higher-risk borrowers face higher costs`***\n",
    "`The analysis confirms that higher-risk borrowers are charged higher interest rates. Top-grade borrowers (A) enjoy the lowest average rate of 6.68%, while the riskiest borrowers (G) face 27.99%. Interestingly, the bulk of loans (grades B and C) account for nearly 58% of total loans, showing the bank balances risk and volume by extending moderate rates to mid-risk clients. This tiered pricing reflects prudent risk-based lending practices while maximizing portfolio exposure.`"
   ]
  },
  {
   "cell_type": "code",
   "execution_count": null,
   "id": "6a85140a-f990-4de2-9128-a4880f73b1ed",
   "metadata": {},
   "outputs": [],
   "source": [
    "query = \"\"\"SELECT grade, ROUND(AVG(int_rate),2) AS 'avg_int_rate_per_grade',\n",
    "            COUNT(loan_id) AS 'num_loans',\n",
    "            ROUND(COUNT(loan_id) * 100 / (SELECT COUNT(loan_id) FROM loans),2) AS 'percent_num_loans'\n",
    "            FROM loans\n",
    "            GROUP BY grade\n",
    "            ORDER BY grade;\n",
    "            \"\"\"\n",
    "\n",
    "df = run_query(conn,query)\n",
    "df"
   ]
  },
  {
   "cell_type": "code",
   "execution_count": null,
   "id": "c76bce45-a819-42af-ad2e-8e19ce93656e",
   "metadata": {},
   "outputs": [],
   "source": [
    "fig,ax = plt.subplots(nrows = 1,ncols = 2,figsize = (15,6))\n",
    "\n",
    "sns.barplot(data = df,hue = 'grade',y = 'avg_int_rate_per_grade',palette = 'rainbow',ax = ax[0])\n",
    "ax[0].grid(True)\n",
    "ax[0].set_title('Avg Interset Rate per Grade',fontweight = 'bold')\n",
    "\n",
    "ax[1].pie(df['percent_num_loans'],autopct = '%1.2f%%',hatch = ['**','//','oo','xX','ox','--','|--|'],pctdistance = 1.15,\n",
    "         colors = sns.color_palette('viridis'))\n",
    "ax[1].legend(labels = df['grade'],title = 'grade')\n",
    "ax[1].set_title('Percentage of Total Loans per Grade',fontweight = 'bold')\n",
    "\n",
    "plt.tight_layout()\n",
    "plt.show()"
   ]
  },
  {
   "cell_type": "markdown",
   "id": "a9da6203-12d8-437c-a65b-19f900506aa5",
   "metadata": {},
   "source": [
    "### ***`14. Loan Purpose Ranking. Identifies the biggest demand drivers in the portfolio.`***\n",
    "`Most loans in the portfolio are for debt consolidation, accounting for 57% of total loans with an average amount of around $16.6K, followed by credit card loans at 24% and home improvement at 6%. Smaller purposes like medical, moving, and vacation together contribute very little. The bar plots clearly show average and total loan amounts per purpose, while the line plot illustrates how average loan amounts vary with the number of loans. The pie chart highlights the share of total loans among the top 5 purposes, making it easy to see which segments dominate. Overall, the portfolio is heavily concentrated in a few key purposes, indicating where lending activity is most focused and where risk exposure may be highest.`"
   ]
  },
  {
   "cell_type": "code",
   "execution_count": null,
   "id": "59033620-c9ff-4917-a08b-b57a45253051",
   "metadata": {},
   "outputs": [],
   "source": [
    "query = \"\"\"SELECT purpose, SUM(loan_amnt) AS 'total_loan_amnt_per_purpose',\n",
    "            ROUND(AVG(loan_amnt),2) AS 'avg_loan_amnt_per_purpose',\n",
    "            COUNT(loan_id) AS 'num_loans',\n",
    "            ROUND(COUNT(loan_id) * 100 / (SELECT COUNT(loan_id) FROM loans),2) AS 'percent_num_loans'\n",
    "            FROM loans\n",
    "            GROUP BY purpose\n",
    "            ORDER BY percent_num_loans DESC;\n",
    "            \"\"\"\n",
    "\n",
    "df = run_query(conn,query)\n",
    "df"
   ]
  },
  {
   "cell_type": "code",
   "execution_count": null,
   "id": "0bf39773-b27c-4725-951f-893ba63cf2e8",
   "metadata": {},
   "outputs": [],
   "source": [
    "fig,ax = plt.subplots(nrows = 2, ncols = 2,figsize = (22,20))\n",
    "\n",
    "sns.barplot(data = df,hue = 'purpose',y = 'avg_loan_amnt_per_purpose',palette = 'inferno',ax = ax[0,0])\n",
    "ax[0,0].grid(True)\n",
    "ax[0,0].legend(loc = 'lower left')\n",
    "ax[0,0].set_title('Avg Loan Amount per Purpose',fontweight = 'bold')\n",
    "\n",
    "sns.barplot(data = df,hue = 'purpose',y = 'total_loan_amnt_per_purpose',palette = 'rainbow',ax = ax[0,1])\n",
    "ax[0,1].grid(True)\n",
    "ax[0,1].legend(loc = 'best')\n",
    "ax[0,1].set_title('Total Loan Amount per Purpose',fontweight = 'bold')\n",
    "\n",
    "sns.lineplot(data = df,x = 'num_loans', y = 'avg_loan_amnt_per_purpose',markers = True,ax = ax[1,0],color = 'deeppink')\n",
    "ax[1,0].grid(True)\n",
    "ax[1,0].set_title('Average Loan Amount per Purpose vs Number of Loans',fontweight = 'bold')\n",
    "\n",
    "ax[1,1].pie(df['percent_num_loans'].head(5),autopct = '%1.2f%%',hatch = ['xOX','X+O','oO','--','//'],pctdistance = 1.12,\n",
    "           colors = sns.color_palette('inferno'))\n",
    "ax[1,1].legend(labels = df['purpose'],title = 'purpose')\n",
    "ax[1,1].set_title('Percent Of Total Loans By top 5 Purpose',fontweight = 'bold')\n",
    "\n",
    "plt.tight_layout()\n",
    "plt.show() "
   ]
  },
  {
   "cell_type": "markdown",
   "id": "bf0ff8f2-caf0-4270-93e2-69ace1e09549",
   "metadata": {},
   "source": [
    "### ***`15. Installment-to-Income Ratio. Query to compute (installment / (annual_inc/12)) ratio per borrower. Measures repayment stress relative to income; highlights over-leveraged borrowers.`***\n",
    "\n",
    "**EMI = [ P * r * (1 + r)^n ] / [ (1 + r)^n - 1 ]**\n",
    "\n",
    "Where:\n",
    "- P = Loan Principal\n",
    "- r = Monthly interest rate = (Annual Interest Rate / 12) / 100\n",
    "- n = Total number of monthly installments = Loan Tenure (in years) * 12\n",
    "\n",
    "`The installment-to-income analysis highlights the repayment burden across borrowers. From the dataframe, we see extreme cases where monthly installments exceed income multiple times (e.g., borrower_id 16010 has an installment-to-income ratio of 8.41), signaling high stress, though most borrowers maintain a ratio around 2–3. The KDE plots confirm this, showing a concentration of borrowers with moderate installments and ratios, while a few outliers stand out. Scatter plots show that while higher-income borrowers tend to take higher EMIs, their installment-to-income ratio is generally lower, implying more manageable debt. The analysis flags lower-income borrowers with high ratios as the most vulnerable group. The correlation heatmap further supports that income and EMI are related, but the ratio varies independently, emphasizing the need to monitor repayment stress beyond just income levels.`"
   ]
  },
  {
   "cell_type": "code",
   "execution_count": null,
   "id": "6e7ae1ae-73e6-40b0-b143-9b3127a9c6ea",
   "metadata": {},
   "outputs": [],
   "source": [
    "query = \"\"\"SELECT t2.borrower_id,t2.total_monthly_installment,t3.annual_inc, \n",
    "           ROUND(((t2.total_monthly_installment))/(t3.annual_inc/12),2) AS 'installment_to_income_ratio'\n",
    "           FROM (SELECT t1.borrower_id, SUM(t1.monthly_installment) AS 'total_monthly_installment'\n",
    "                   FROM (SELECT borrower_id,\n",
    "                                ROUND(\n",
    "                                  ((loan_amnt) * ((int_rate/12)/100) * POWER((1 + ((int_rate/12)/100)),term)) / \n",
    "                                  ((POWER((1 + ((int_rate/12)/100)),term)) - 1),2) AS monthly_installment  \n",
    "                           FROM loans) t1\n",
    "                   GROUP BY t1.borrower_id) t2\n",
    "                   JOIN borrowers t3\n",
    "                   ON t2.borrower_id = t3.borrower_id\n",
    "                   ORDER BY installment_to_income_ratio DESC;\"\"\"\n",
    "\n",
    "# Displaying top 15 over-leveraged borrowers\n",
    "df = run_query(conn,query)\n",
    "df.head(15)"
   ]
  },
  {
   "cell_type": "code",
   "execution_count": null,
   "id": "81c92619-db3f-4ba7-b0a1-35eb7dbee3a5",
   "metadata": {},
   "outputs": [],
   "source": [
    "fig,ax = plt.subplots(nrows = 3,ncols = 2,figsize = (22,22))\n",
    "\n",
    "sns.kdeplot(data = df,x = 'total_monthly_installment',color = 'crimson',ax = ax[0,0])\n",
    "ax[0,0].grid(True)\n",
    "ax[0,0].set_title('Probability Distribution For Total Monthly Installment',fontweight = 'bold',fontsize = '16')\n",
    "\n",
    "sns.kdeplot(data = df,x = 'installment_to_income_ratio',color = 'dodgerblue',ax = ax[0,1])\n",
    "ax[0,1].grid(True)\n",
    "ax[0,1].set_title('Probability Distribution For Installment To Income Ratio',fontweight = 'bold',fontsize = '16')\n",
    "\n",
    "sns.scatterplot(data = df,x = 'annual_inc',y = 'total_monthly_installment',ax = ax[1,0],color = 'm')\n",
    "ax[1,0].set_title('Annual Income vs Total Monthly Installment',fontweight = 'bold',fontsize = '16')\n",
    "ax[1,0].grid(True)\n",
    "\n",
    "sns.scatterplot(data = df,x = 'total_monthly_installment',y = 'installment_to_income_ratio',ax = ax[1,1],color = 'g')\n",
    "ax[1,1].set_title('EMI vs Installment To Income Ratio',fontweight = 'bold',fontsize = '16')\n",
    "ax[1,1].grid(True)\n",
    "\n",
    "sns.scatterplot(data = df,x = 'annual_inc',y = 'installment_to_income_ratio',ax = ax[2,0],color = 'r')\n",
    "ax[2,0].set_title('Annual Income vs Installment To Income Ratio',fontweight = 'bold',fontsize = '16')\n",
    "ax[2,0].grid(True)\n",
    "\n",
    "corr = df[['total_monthly_installment','annual_inc','installment_to_income_ratio']].corr()\n",
    "sns.heatmap(corr,annot = True,cmap = 'viridis',cbar = True,\n",
    "            ax = ax[2,1],linewidths = 0.5)\n",
    "ax[2,1].set_title('Correlation Heatmap',fontweight = 'bold',fontsize = '16')\n",
    "\n",
    "plt.tight_layout()\n",
    "plt.show()"
   ]
  },
  {
   "cell_type": "markdown",
   "id": "3f636180-5636-4323-97ab-a8c36deb510b",
   "metadata": {},
   "source": [
    "### ***`16. High Revolving Utilization(>90) & Costly Loans. Identifies borrowers maxing out their credit lines with costly loans and defaulting.`***\n",
    "`The analysis of high revolving utilization borrowers highlights a critical risk segment. From the dataframe, we see borrowers maxing out their credit lines (>90% revol_util) often coupled with high interest rates, with many loans marked as charged off or late. The histogram shows that interest rates for these loans are skewed toward the higher end, emphasizing their costly nature. The scatter plot illustrates a clear trend: higher revolving utilization generally coincides with higher interest rates, and longer-term loans add further risk. The bar plot of the top 15 ranked costly loans reinforces this, showing individual borrowers facing extreme interest rates and repayment stress. Overall, this segment represents the most financially vulnerable borrowers, needing close monitoring.`"
   ]
  },
  {
   "cell_type": "code",
   "execution_count": null,
   "id": "1d25918f-5c84-4d2b-8a7c-839a4215a172",
   "metadata": {},
   "outputs": [],
   "source": [
    "query = \"\"\"SELECT *, DENSE_RANK() OVER(ORDER BY int_rate DESC,revol_util DESC) AS 'costly_loan_rank' FROM loans\n",
    "            WHERE revol_util > 90 AND loan_status IN ('late','charged off','in grace period');\"\"\"\n",
    "\n",
    "df = run_query(conn,query)\n",
    "df"
   ]
  },
  {
   "cell_type": "code",
   "execution_count": null,
   "id": "2d911702-8dd1-438f-a353-c5eefe36c5d5",
   "metadata": {},
   "outputs": [],
   "source": [
    "fig,ax  = plt.subplots(nrows = 1,ncols = 3,figsize = (20,8))\n",
    "\n",
    "sns.histplot(df['int_rate'], bins = 20, kde = True,ax = ax[0],color = 'springgreen')\n",
    "ax[0].set_title(\"Interest Rate Distribution for High Revolving Utilization Loans\",fontweight = 'bold',fontsize = '16')\n",
    "ax[0].grid(True)\n",
    "\n",
    "sns.scatterplot(data = df,x = 'revol_util',y = 'int_rate',hue = 'loan_status',size  = 'term',palette = 'bright',ax = ax[1])\n",
    "ax[1].grid(True)\n",
    "ax[1].set_title('Revolving Utilization vs Interest Rate',fontweight = 'bold',fontsize = '16')\n",
    "\n",
    "# Bar plot of the top 15 ranked loans by interest rate\n",
    "top_15 = df[df['costly_loan_rank'] <= 15]\n",
    "sns.barplot(data = top_15,x = 'borrower_id',y = 'int_rate',hue = 'loan_status',palette = 'inferno',ax = ax[2])\n",
    "ax[2].grid(True)\n",
    "ax[2].tick_params(axis='x', rotation = 45)\n",
    "ax[2].set_title('Top 15 High-Risk Loans by Interest Rate',fontweight = 'bold',fontsize = '16')\n",
    "\n",
    "plt.tight_layout()\n",
    "plt.show()"
   ]
  },
  {
   "cell_type": "markdown",
   "id": "29e705c2-3b60-4213-98e5-3a8b6bcfc659",
   "metadata": {},
   "source": [
    "### ***`17. Purpose + Term Loan Rates. Explores how loan costs vary jointly by purpose and repayment duration.`***\n",
    "`The analysis of loan costs by purpose and term reveals clear patterns in both interest rates and loan amounts. From the dataframe, longer-term loans (60 months) consistently carry higher interest rates and larger average amounts compared to 36-month loans across nearly all purposes. For example, car and credit card loans almost double in size and increase in rate with longer terms, while niche purposes like renewable energy or small business also show elevated costs for extended terms. The bar plots highlight these trends visually, showing higher interest and loan amounts for 60-month loans across all purposes, while the color-coded distinction makes it easy to compare between different purposes. This indicates that both purpose and term are key drivers of loan pricing and risk exposure in the portfolio.`"
   ]
  },
  {
   "cell_type": "code",
   "execution_count": null,
   "id": "93c62879-7c8c-4a85-9a6a-419f8d1e4730",
   "metadata": {},
   "outputs": [],
   "source": [
    "query = \"\"\"SELECT purpose,term,ROUND(AVG(int_rate),2) AS 'avg_int_rate',ROUND(AVG(loan_amnt),2) AS 'avg_loan_amnt'\n",
    "            FROM loans\n",
    "            GROUP BY purpose,term\n",
    "            ORDER BY purpose,term;\"\"\"\n",
    "\n",
    "df = run_query(conn,query)\n",
    "df"
   ]
  },
  {
   "cell_type": "code",
   "execution_count": null,
   "id": "f0e61961-0b53-40d2-ae88-e8e8def89371",
   "metadata": {},
   "outputs": [],
   "source": [
    "g1 = sns.catplot(data = df,hue = 'purpose',y = 'avg_int_rate',kind = 'bar',palette = 'rainbow',col = 'term',height = 5,aspect = 1.2)\n",
    "g1.set_titles(\"Average Interest Rate by Loan Purpose | Term = {col_name}\", fontweight = 'bold',fontsize = '16')\n",
    "for ax in g1.axes.flat:\n",
    "    ax.grid(True)\n",
    "    \n",
    "g2 = sns.catplot(data = df,hue = 'purpose',y = 'avg_loan_amnt',kind = 'bar',palette = 'inferno',col = 'term',height = 5,aspect = 1.2)\n",
    "g2.set_titles(\"Average Loan Amount by Loan Purpose | Term = {col_name}\", fontweight = 'bold',fontsize = '16')\n",
    "for ax in g2.axes.flat:\n",
    "    ax.grid(True)\n",
    "    \n",
    "plt.show()"
   ]
  },
  {
   "cell_type": "markdown",
   "id": "720d07fa-7289-47b6-9667-f2435bbddabb",
   "metadata": {},
   "source": [
    "### ***`18. Grade-Purpose Portfolio Share. Reveals diversification or concentration in loan offerings.`***\n",
    "`The grade-purpose portfolio analysis shows how loans are distributed across grades and purposes, highlighting both diversification and concentration. Most loans are concentrated in debt consolidation and credit card purposes, especially in grades A, B, and C, while niche purposes like small business, home improvement, and major purchase appear mostly in lower grades (D–G) with smaller portfolio shares. Average loan amounts tend to increase slightly for lower grades and specialized purposes, reflecting higher risk and cost. The stacked bar plots make these patterns clear: one plot shows average loan amounts by grade and purpose, emphasizing larger loans in riskier grades, while the second plot shows the percentage of total loans per grade-purpose combination, highlighting that a few combinations dominate the portfolio. Overall, the portfolio is moderately diversified but heavily weighted toward mainstream consumer lending.`"
   ]
  },
  {
   "cell_type": "code",
   "execution_count": null,
   "id": "3f72f40b-5d89-4d94-ab38-3f2cd813010f",
   "metadata": {},
   "outputs": [],
   "source": [
    "query = \"\"\"SELECT t2.grade,t2.purpose,t2.avg_loan_amnt,t2.percent_loans_per_grade_purpose_combo\n",
    "            FROM (SELECT * , DENSE_RANK() OVER(PARTITION BY t1.grade ORDER BY t1.avg_loan_amnt DESC) AS 'purpose_rank'\n",
    "                    FROM (SELECT grade,purpose,ROUND(AVG(loan_amnt),2) AS 'avg_loan_amnt',\n",
    "                            ROUND(COUNT(loan_id) * 100 / (SELECT COUNT(loan_id) FROM loans),2) AS 'percent_loans_per_grade_purpose_combo'\n",
    "                             FROM loans\n",
    "                             GROUP BY grade,purpose\n",
    "                             ORDER BY grade,purpose) t1) t2\n",
    "            WHERE t2.purpose_rank <= 3;\"\"\"\n",
    "\n",
    "df = run_query(conn,query)\n",
    "df"
   ]
  },
  {
   "cell_type": "code",
   "execution_count": null,
   "id": "2821556f-3b13-4a90-b66f-f03bab760ab2",
   "metadata": {},
   "outputs": [],
   "source": [
    "pivot_df1 = df.pivot(index = 'grade', \n",
    "                        columns = 'purpose', \n",
    "                        values = 'avg_loan_amnt').fillna(0)\n",
    "pivot_df1 = pivot_df1.astype('float')\n",
    "pivot_df1"
   ]
  },
  {
   "cell_type": "code",
   "execution_count": null,
   "id": "c03d51f9-0ca3-45c7-a599-e115e17e7753",
   "metadata": {},
   "outputs": [],
   "source": [
    "pivot_df2 = df.pivot(index = 'grade', \n",
    "                        columns = 'purpose', \n",
    "                        values = 'percent_loans_per_grade_purpose_combo').fillna(0)\n",
    "pivot_df2 = pivot_df2.astype('float')\n",
    "pivot_df2"
   ]
  },
  {
   "cell_type": "code",
   "execution_count": null,
   "id": "40cba065-fc77-4d12-b934-bb9f766ae9ac",
   "metadata": {},
   "outputs": [],
   "source": [
    "fig,ax = plt.subplots(nrows = 1,ncols = 2,figsize = (20,10))\n",
    "\n",
    "ax[0] = pivot_df1.plot(kind = \"bar\", stacked = True, colormap = 'jet',ax = ax[0])\n",
    "ax[0].grid(True)\n",
    "ax[0].set_ylabel(\"Avg Loan Amnt\")\n",
    "ax[0].set_yticks(ticks = range(5000,70000,5000))\n",
    "ax[0].set_title(\"Average Loan Amount by Purpose & Grade\",fontweight = 'bold',fontsize = '16')\n",
    "\n",
    "ax[1] = pivot_df2.plot(kind = \"bar\", stacked = True, colormap = 'viridis',ax = ax[1])\n",
    "ax[1].grid(True)\n",
    "ax[1].set_ylabel(\"% of Loans\")\n",
    "ax[1].set_yticks(ticks = range(0,28,2))\n",
    "ax[1].set_title(\"Top Loan Purposes by Grade (Stacked %)\",fontweight = 'bold',fontsize = '16')\n",
    "\n",
    "plt.tight_layout()\n",
    "plt.show()"
   ]
  },
  {
   "cell_type": "code",
   "execution_count": null,
   "id": "a3eb4402-ec31-430a-ac70-f582dbd5acdd",
   "metadata": {},
   "outputs": [],
   "source": []
  },
  {
   "cell_type": "code",
   "execution_count": null,
   "id": "ecf2f404-f08a-4a3b-9d9b-4e00f6231099",
   "metadata": {},
   "outputs": [],
   "source": []
  },
  {
   "cell_type": "markdown",
   "id": "99712453-d5d8-4e5a-adcf-44708e81de87",
   "metadata": {},
   "source": [
    "# ***`C. Loan Performance & Risk Analysis- How well are the loans performing, and where are the risks?`***\n",
    "\n",
    " ### ***`Not every loan performs the same — some are repaid, some are delayed, and some default. This section explores repayment outcomes and identifies high-risk loan segments.`*** \n",
    "\n",
    "### ***`Summary- `***\n",
    "\n",
    "`The loan portfolio overall is performing well, with most loans being current or fully paid; however, risk is concentrated in specific segments. Short-term loans (36-month) in mid-grades B, C, and D dominate defaults, while longer-term loans (60-month) contribute to risk in higher grades like E and F. Certain loan purposes—small business, medical, and debt consolidation—show higher default percentages, indicating that both borrower profile and loan purpose jointly influence risk. Past delinquencies emerge as a strong predictor of default: borrowers with 3–4 prior delinquencies account for a major portion of defaults, particularly when combined with high revolving utilization and moderate-to-high debt-to-income ratios, reflecting compounded financial stress. Interestingly, income bands have little effect on default rates, although wealthier borrowers tend to hold more accounts, which may subtly increase exposure. Higher interest rates correlate with higher defaults, especially among weaker credit grades and longer-term loans, demonstrating that repayment risk rises with borrowing cost. Grade migration analysis shows that while high-grade borrowers often maintain or improve their status, mid- and low-grade borrowers frequently experience deteriorating creditworthiness, signaling the need for ongoing monitoring. Finally, lenders adjust interest rates based on perceived borrower risk: most see stable or slightly increased rates over successive loans, reinforcing the link between repayment behavior and pricing strategy. Mid-grade, short-term loans for high-risk purposes, compounded by prior delinquencies and high financial leverage, form the core of portfolio risk, while income alone is not a strong predictor—highlighting the importance of multi-factor risk assessment, credit monitoring, and adaptive pricing strategies.` "
   ]
  },
  {
   "cell_type": "code",
   "execution_count": null,
   "id": "85218bb7-acd5-4ce8-af8a-9b01272f2ec4",
   "metadata": {},
   "outputs": [],
   "source": []
  },
  {
   "cell_type": "markdown",
   "id": "92e76ca9-4dbf-4fb8-b475-70b6ecee87f6",
   "metadata": {},
   "source": [
    "### ***`19. Loan Status Breakdown. Key metric showing defaults, charge-offs, and active loans, also reveals if certain grades or terms dominate particular loan statuses.`***\n",
    "\n",
    "`In the Loan Status Breakdown, most loans are performing well, with the majority being either current or fully paid, while charge-offs remain relatively low. Short-term (36-month) loans generally dominate in volume, especially in mid-grades like B and C. The highest default rates are seen in grade C (36-month term, 2.44%), followed by B (36-month, 1.85%) and D (36-month, 1.43%). Longer-term loans (60 months) have slightly lower percentages of charge-offs but still contribute to risk in higher grades like E and F. The bar plots clearly show the distribution of total loans and percentages across grades and terms, highlighting where defaults concentrate, while the heatmap effectively visualizes charged-off percentages, making it easy to identify the riskiest grade-term combinations. The top 15 segments bar plot confirms that 36-month loans in grades B, C, and D are the main contributors to credit risk.`"
   ]
  },
  {
   "cell_type": "code",
   "execution_count": null,
   "id": "4b81ee35-cf86-4b5c-9365-77f124462b79",
   "metadata": {},
   "outputs": [],
   "source": [
    "query = \"\"\"SELECT grade,term,loan_status,COUNT(loan_id) AS 'total_loans',\n",
    "            ROUND(COUNT(loan_id) * 100/ (SELECT COUNT(loan_id) FROM loans),2) As 'percent_loans'\n",
    "            FROM loans\n",
    "            GROUP BY grade,term,loan_status\n",
    "            ORDER BY grade,term,total_loans DESC;\"\"\"\n",
    "\n",
    "df = run_query(conn,query)\n",
    "df"
   ]
  },
  {
   "cell_type": "code",
   "execution_count": null,
   "id": "ce573df9-d7f2-4f9e-ae9f-44f0db92bc81",
   "metadata": {},
   "outputs": [],
   "source": [
    "g1 = sns.catplot(data = df,hue = 'loan_status',x = 'grade',y = 'total_loans',kind = 'bar',palette = 'inferno',\n",
    "                 col = 'term',height = 5,aspect = 1.2)\n",
    "g1.set_titles(\"Total Loans By Loan Status | Term = {col_name}\", fontweight = 'bold',fontsize = '18')\n",
    "for ax in g1.axes.flat:\n",
    "    ax.grid(True, alpha=0.3)\n",
    "    ax.set_yticks(ticks = range(1000,18000,1000))\n",
    "\n",
    "\n",
    "g2 = sns.catplot(data = df,hue = 'loan_status',x = 'grade',y = 'percent_loans',kind = 'bar',palette = 'rainbow',col = 'term',\n",
    "                height = 6,aspect = 1.2)\n",
    "g2.set_titles(\"Percent Loans By Loan Status | Term = {col_name}\", fontweight = 'bold',fontsize = '18')\n",
    "for ax in g2.axes.flat:\n",
    "    ax.grid(True, alpha=0.3)\n",
    "    ax.set_yticks(ticks = range(0,15))\n",
    "\n",
    "plt.show()    "
   ]
  },
  {
   "cell_type": "code",
   "execution_count": null,
   "id": "87a274a5-e156-4588-9c6d-126aaa0eca8b",
   "metadata": {},
   "outputs": [],
   "source": [
    "heatmap_df = df[df[\"loan_status\"] == \"charged off\"].pivot(index = \"grade\", columns = \"term\", values = \"percent_loans\")\n",
    "heatmap_df = heatmap_df.astype(float)\n",
    "heatmap_df"
   ]
  },
  {
   "cell_type": "code",
   "execution_count": null,
   "id": "fe08582e-a174-4a69-849e-586993d6fedd",
   "metadata": {},
   "outputs": [],
   "source": [
    "df['percent_loans'] = df['percent_loans'].astype('float')\n",
    "top_defaults = df[(df[\"loan_status\"] == \"charged off\")].nlargest(15, \"percent_loans\")\n",
    "top_defaults "
   ]
  },
  {
   "cell_type": "code",
   "execution_count": null,
   "id": "7265bd3e-f873-467d-972b-2cd9f2de2543",
   "metadata": {},
   "outputs": [],
   "source": [
    "fig,ax = plt.subplots(nrows = 1,ncols = 2,figsize = (15,6))\n",
    "\n",
    "sns.heatmap(heatmap_df, annot = True, fmt = \".2f\",cmap = \"inferno\",ax = ax[0])\n",
    "ax[0].set_title(\"Charged Off Loan % by Grade and Term\", fontweight = \"bold\")\n",
    "\n",
    "sns.barplot(data = top_defaults, x = \"percent_loans\", y = \"grade\", hue = \"term\", palette = \"rainbow\",ax = ax[1])\n",
    "ax[1].set_title(\"Top 15 Risky Segments by Charged Off Loans %\",fontweight = \"bold\")\n",
    "ax[1].grid(True, alpha=0.3)\n",
    "plt.show()"
   ]
  },
  {
   "cell_type": "markdown",
   "id": "841ec602-d1f4-4db7-90d6-03e45bf7caa7",
   "metadata": {},
   "source": [
    "### ***`20. Default % by Purpose and Grade. Certain purposes (e.g., small business, medical) tend to default more; grading within purpose adds granularity for risk management.`***\n",
    "`In the Default % by Purpose and Grade analysis, we see that certain loan purposes consistently have higher defaults, with small business, medical, and debt consolidation showing elevated risk. Grade C and B loans contribute the most to total charge-offs across most purposes, indicating higher-risk borrowers are concentrated in these grades. While low-grade loans like F and G have fewer total defaults, their percentages remain meaningful for specific purposes. The stacked bar plots make it easy to compare both total charged-off loans and their proportion within each grade, highlighting that mid-grade loans for debt consolidation and credit card purposes form the largest default segments, while purposes like renewable energy and vacation have minimal impact. Overall, this analysis helps identify which grade-purpose combinations require closer risk monitoring.`"
   ]
  },
  {
   "cell_type": "code",
   "execution_count": null,
   "id": "b60f1057-c773-4e87-b8e5-d2fbe5cf0be2",
   "metadata": {},
   "outputs": [],
   "source": [
    "query = \"\"\"SELECT purpose,grade,COUNT(loan_id) AS 'total_charged_off_loans',\n",
    "            ROUND(COUNT(loan_id) * 100 / (SELECT COUNT(loan_id) FROM loans WHERE loan_status = 'charged off'),2) AS 'percent_charged_off_loans'\n",
    "            FROM loans\n",
    "            WHERE loan_status = 'charged off'\n",
    "            GROUP BY purpose,grade\n",
    "            ORDER BY total_charged_off_loans DESC;\"\"\"\n",
    "\n",
    "df = run_query(conn,query)\n",
    "\n",
    "pivot_df1 = df.pivot(index = 'grade', \n",
    "                        columns = 'purpose', \n",
    "                        values = 'total_charged_off_loans').fillna(0)\n",
    "pivot_df1 = pivot_df1.astype('float')\n",
    "\n",
    "pivot_df2 = df.pivot(index = 'grade', \n",
    "                        columns = 'purpose', \n",
    "                        values = 'percent_charged_off_loans').fillna(0)\n",
    "pivot_df2 = pivot_df2.astype('float')"
   ]
  },
  {
   "cell_type": "code",
   "execution_count": null,
   "id": "ab9cc5e1-fc18-441f-9412-59c9f0ffb006",
   "metadata": {},
   "outputs": [],
   "source": [
    "pivot_df1"
   ]
  },
  {
   "cell_type": "code",
   "execution_count": null,
   "id": "1d459a86-bee3-4cfd-8828-c02142d27f75",
   "metadata": {},
   "outputs": [],
   "source": [
    "pivot_df2"
   ]
  },
  {
   "cell_type": "code",
   "execution_count": null,
   "id": "0cbcbecd-abf5-4362-a9d1-ba4ebe209944",
   "metadata": {},
   "outputs": [],
   "source": [
    "fig,ax = plt.subplots(nrows = 1,ncols = 2,figsize = (20,10))\n",
    "\n",
    "ax[0] = pivot_df1.plot(kind = \"bar\", stacked = True, colormap = 'jet',ax = ax[0])\n",
    "ax[0].grid(True)\n",
    "ax[0].set_ylabel(\"Total Charged Off Loans\")\n",
    "ax[0].set_yticks(ticks = range(500,5000,500))\n",
    "ax[0].set_title(\"Total Charged Off Loans by Purpose & Grade\",fontweight = 'bold',fontsize = '16')\n",
    "\n",
    "ax[1] = pivot_df2.plot(kind = \"bar\", stacked = True, colormap = 'Set3',ax = ax[1])\n",
    "ax[1].grid(True)\n",
    "ax[1].set_ylabel(\"Percent Charged Off Loans\")\n",
    "ax[1].set_yticks(ticks = range(0,34,2))\n",
    "ax[1].set_title(\"Percent Charged Off Loans by Grade & Purpose (Stacked %)\",fontweight = 'bold',fontsize = '16')\n",
    "\n",
    "plt.tight_layout()\n",
    "plt.show()"
   ]
  },
  {
   "cell_type": "markdown",
   "id": "e1aa464e-9438-41a3-bd15-2551cbe8cff9",
   "metadata": {},
   "source": [
    "### ***`21. Past Delinquencies vs Default. Past delinquency is a strong predictor of future repayment failure; adding revol_util and dti to see compounded risk shows deeper risk signals.`***\n",
    "`The Past Delinquencies vs Default analysis shows that borrowers with prior delinquencies are significantly more likely to default, especially those with 3–4 delinquencies in the past two years, accounting for over 70% of charged-off loans in the top segments. Average revolving utilization hovers around 47–56% for most defaulted loans, while DTI remains moderately high (~18–21%), indicating that these borrowers are both heavily leveraged and carry substantial debt. The total number of loans defaults decreases sharply as delinquencies rise beyond 5, though extreme cases with very high revol_util or DTI still exist. The bar plots illustrate the upward trend in default risk for moderate past delinquencies, while the pie chart highlights that the majority of defaults cluster in borrowers with 3–4 prior delinquencies. Overall, past delinquencies, combined with high revol_util and DTI, serve as strong compounded risk indicators for future loan performance.`"
   ]
  },
  {
   "cell_type": "code",
   "execution_count": null,
   "id": "50f426c3-371c-4019-9602-7324c2d4fd49",
   "metadata": {},
   "outputs": [],
   "source": [
    "query = \"\"\"SELECT delinq_2yrs,ROUND(AVG(revol_util),2) AS avg_revol_util,ROUND(AVg(dti),2) AS avg_dti,COUNT(loan_id) AS 'num_loans',\n",
    "            ROUND(COUNT(loan_id)  * 100 / (SELECT COUNT(*) FROM loans WHERE loan_status = 'charged off'AND delinq_2yrs >2),2) \n",
    "            AS 'percent_charged_off_loans'\n",
    "            FROM loans\n",
    "            WHERE loan_status = 'charged off' AND delinq_2yrs > 2\n",
    "            GROUP BY delinq_2yrs\n",
    "            ORDER BY delinq_2yrs;\"\"\"\n",
    "\n",
    "df = run_query(conn,query)\n",
    "df['delinq_2yrs'] = df['delinq_2yrs'].astype('category')\n",
    "df['avg_revol_util'] = df['avg_revol_util'].astype('float')\n",
    "df['avg_dti'] = df['avg_dti'].astype('float')\n",
    "df['num_loans'] = df['num_loans'].astype('int')\n",
    "df['percent_charged_off_loans'] = df['percent_charged_off_loans'].astype('float')\n",
    "df"
   ]
  },
  {
   "cell_type": "code",
   "execution_count": null,
   "id": "9f463768-e9f8-42e9-83f2-5f64c9abc72f",
   "metadata": {},
   "outputs": [],
   "source": [
    "fig,ax = plt.subplots(nrows = 2,ncols = 2,figsize = (20,18))\n",
    "\n",
    "sns.barplot(data = df,hue = 'delinq_2yrs',y = 'avg_revol_util',palette = 'rainbow',ax = ax[0,0])\n",
    "ax[0,0].grid(True)\n",
    "ax[0,0].set_yticks(ticks = range(0,100,10))\n",
    "ax[0,0].set_title('Avg Revol_Util By Delinq_2Yrs For Defaulted Loans',fontweight = 'bold',fontsize = '16')\n",
    "\n",
    "sns.barplot(data = df,hue = 'delinq_2yrs',y = 'avg_dti',palette = 'coolwarm',ax = ax[0,1])\n",
    "ax[0,1].grid(True)\n",
    "ax[0,1].set_yticks(ticks = range(0,32,2))\n",
    "ax[0,1].set_title('Avg DTI By Delinq_2Yrs For Defaulted Loans',fontweight = 'bold',fontsize = '16')\n",
    "\n",
    "sns.barplot(data = df,hue = 'delinq_2yrs',y = 'num_loans',palette = 'Set1',ax = ax[1,0])\n",
    "ax[1,0].grid(True)\n",
    "ax[1,0].set_yticks(ticks = range(0,280,20))\n",
    "ax[1,0].set_title('Total Charged Off Loans By Delinq_2Yrs',fontweight = 'bold',fontsize = '16')\n",
    "\n",
    "ax[1,1].pie(df['percent_charged_off_loans'].head(6),autopct = '%1.2f%%',hatch = ['xO','OO','**','*+-','++','//'],pctdistance = 1.12,\n",
    "           colors = sns.color_palette('rainbow'))\n",
    "ax[1,1].legend(labels = df['delinq_2yrs'],loc = 'best')\n",
    "ax[1,1].set_title('Percent Charged Off Loans By Delinq_2Yrs',fontweight = 'bold',fontsize = '16')\n",
    "\n",
    "plt.tight_layout()\n",
    "plt.show()"
   ]
  },
  {
   "cell_type": "markdown",
   "id": "c6a39dcf-1d89-437a-b855-e9665c624f92",
   "metadata": {},
   "source": [
    "### ***`22. Income Bands vs Default %  along with dti and total_acc. Links economic background with repayment behavior; higher leverage or more accounts may compound risk.`***\n",
    "`The Income Bands vs Default % analysis shows that default rates are surprisingly similar across all income levels, hovering around 19–20%, suggesting that income alone isn’t a strong predictor of default. Average DTI remains consistently high (~21–22%) across bands, while total accounts vary more, with ultra-high and high-income borrowers holding 27–29 accounts on average, compared to 19–25 for lower-income bands, indicating higher financial activity. The bar plots illustrate that defaults are evenly distributed across income segments, and DTI does not drastically differ, whereas the total number of accounts grows with income. The pie chart confirms that each income band contributes similarly to overall defaults. Overall, repayment risk appears relatively uniform across economic strata, but higher leverage or more accounts may subtly compound the risk for wealthier borrowers.`"
   ]
  },
  {
   "cell_type": "code",
   "execution_count": null,
   "id": "0e0061c1-67a2-4d70-8646-f7534548a4b3",
   "metadata": {},
   "outputs": [],
   "source": [
    "query = \"\"\" SELECT T1.income_band, ROUND(AVG(T1.annual_inc),2) AS 'avg_annual_inc', \n",
    "            ROUND(AVG(T2.dti),2) AS 'avg_dti',\n",
    "            ROUND(AVG(T1.total_acc),2) AS 'avg_total_acc',\n",
    "            COUNT(T2.loan_id) AS 'num_loans',\n",
    "            ROUND(COUNT(T2.loan_id) * 100 /(SELECT COUNT(loan_id) FROM loans WHERE loan_status = 'charged off'),2) AS 'percent_default_loans'\n",
    "            FROM (SELECT*, CASE\n",
    "                              WHEN t.bucket = 1 THEN 'low'\n",
    "                              WHEN t.bucket = 2 THEN 'lower_middle'\n",
    "                              WHEN t.bucket = 3 THEN 'middle'\n",
    "                              WHEN t.bucket = 4 THEN 'high'\n",
    "                              WHEN t.bucket = 5 THEN 'ultra_high'\n",
    "                          END AS 'income_band' \n",
    "                 FROM (SELECT *, NTILE(5) OVER(ORDER BY annual_inc) AS 'bucket' FROM borrowers) t) T1\n",
    "            JOIN loans T2\n",
    "            ON T1.borrower_id = T2.borrower_id\n",
    "            WHERE T2.loan_status = 'charged off'\n",
    "            GROUP BY T1.income_band\n",
    "            ORDER BY num_loans DESC;\"\"\"\n",
    "\n",
    "df = run_query(conn,query)\n",
    "df"
   ]
  },
  {
   "cell_type": "code",
   "execution_count": null,
   "id": "21ed537d-fbf2-4e5b-a4d8-cd3565e04e31",
   "metadata": {},
   "outputs": [],
   "source": [
    "df_melt = df.melt(\n",
    "    id_vars = ['income_band'], \n",
    "    value_vars = ['avg_dti', 'avg_total_acc'], \n",
    "    var_name = 'Metric', \n",
    "    value_name = 'Value'\n",
    ")\n",
    "\n",
    "df_melt"
   ]
  },
  {
   "cell_type": "code",
   "execution_count": null,
   "id": "8ef865c4-14e0-4148-9503-66585e95bb29",
   "metadata": {},
   "outputs": [],
   "source": [
    "fig,ax = plt.subplots(nrows = 2,ncols = 2,figsize = (18,14))\n",
    "\n",
    "sns.barplot(data = df_melt,hue = 'Metric',x = 'income_band',y = 'Value',palette = 'plasma',ax = ax[0,0])\n",
    "ax[0,0].set_title('Avg DTI & Total_Acc By Income Bands For Charged Off Loans',fontweight = 'bold',fontsize = '16')\n",
    "ax[0,0].grid(True)\n",
    "ax[0,0].set_yticks(ticks = range(0,33,3))\n",
    "\n",
    "sns.barplot(data = df,hue = 'income_band',y = 'avg_annual_inc',palette = 'magma',ax = ax[0,1])\n",
    "ax[0,1].set_title('Avg Annual Income By Income Bands For Charged Off Loans',fontweight = 'bold',fontsize = '16')\n",
    "ax[0,1].grid(True)\n",
    "\n",
    "sns.barplot(data = df,hue = 'income_band',y = 'num_loans',palette = 'rainbow',ax = ax[1,0])\n",
    "ax[1,0].set_title('Total Charged Off Loans By Income Band',fontweight = 'bold',fontsize = '16')\n",
    "ax[1,0].grid(True)\n",
    "\n",
    "ax[1,1].pie(df['percent_default_loans'],autopct = '%1.2f%%',hatch = ['Xx+','oO','+X','**','-+'],pctdistance = 1.12,\n",
    "            colors = sns.color_palette('inferno'))\n",
    "ax[1,1].legend(labels = df['income_band'])\n",
    "ax[1,1].set_title('Percent Default Loans By Income Bands In Total Default Loans',fontweight = 'bold',fontsize = '16')\n",
    "\n",
    "plt.tight_layout()\n",
    "plt.show()"
   ]
  },
  {
   "cell_type": "markdown",
   "id": "9fed45af-45b7-4cdd-b4d2-a25e2502e709",
   "metadata": {},
   "source": [
    "### ***`23. Interest Rate Bands vs Default %. Verifies correlation of high interest rates with poor repayment while accounting for grading and loan duration.`***\n",
    "`The Interest Rate Bands vs Default % analysis highlights that higher interest rates are strongly associated with greater default risk, particularly among lower grades and longer-term loans. Loans with rates above 20% (mostly grades E, F, G) show both higher absolute defaults and higher default percentages, while A and B-grade loans at lower rates (<15%) exhibit minimal defaults. Medium-risk borrowers (grades C and D) see rising defaults as rates move from 10–15% to 15–20%, showing a clear sensitivity to interest costs. The stacked bar plots illustrate how defaults concentrate in high-rate bands and lower grades, and the percentage plot confirms that high-rate, long-term loans disproportionately contribute to overall charged-off loans. Overall, interest rate is a key driver of repayment risk, especially for weaker credit grades and longer durations.`"
   ]
  },
  {
   "cell_type": "code",
   "execution_count": null,
   "id": "b7bc1c1c-aa15-4c0d-807f-bbec26429261",
   "metadata": {},
   "outputs": [],
   "source": [
    "query = \"\"\"WITH T AS (SELECT *,\n",
    "                              CASE \n",
    "                                  WHEN int_rate < 10 THEN '<10%'\n",
    "                                  WHEN int_rate BETWEEN 10 AND 15 THEN '10-15%'\n",
    "                                  WHEN int_rate BETWEEN 15 AND 20 THEN '15-20%'\n",
    "                                  WHEN int_rate > 20 THEN '>20%'\n",
    "                              END AS 'int_rate_range'\n",
    "                      FROM loans)\n",
    "\n",
    "                      \n",
    "           SELECT grade,term,int_rate_range,COUNT(loan_id) AS 'total_default_loans',\n",
    "           ROUND(COUNT(loan_id) * 100 / (SELECT COUNT(loan_id) FROM loans WHERE loan_status = 'charged off'),2)\n",
    "           AS 'percent_default_loans'\n",
    "           FROM T\n",
    "           WHERE loan_status = 'charged off'\n",
    "           GROUP BY int_rate_range,grade,term\n",
    "           ORDER BY grade,term;\"\"\"\n",
    "\n",
    "df = run_query(conn,query)\n",
    "\n",
    "pivot_df1 = df.pivot(index = 'grade', \n",
    "                        columns = [\"int_rate_range\",\"term\"], \n",
    "                        values = 'total_default_loans').fillna(0)\n",
    "pivot_df1 = pivot_df1.astype('float')\n",
    "\n",
    "\n",
    "pivot_df2 = df.pivot(index = 'grade', \n",
    "                        columns = [\"int_rate_range\",\"term\"], \n",
    "                        values = 'percent_default_loans').fillna(0)\n",
    "pivot_df2 = pivot_df2.astype('float')"
   ]
  },
  {
   "cell_type": "code",
   "execution_count": null,
   "id": "0d041672-3ede-4ca8-aedb-cb13a7bb5b67",
   "metadata": {},
   "outputs": [],
   "source": [
    "pivot_df1"
   ]
  },
  {
   "cell_type": "code",
   "execution_count": null,
   "id": "e4f59c69-f79a-4ebe-a640-92a4bca409fb",
   "metadata": {},
   "outputs": [],
   "source": [
    "pivot_df2"
   ]
  },
  {
   "cell_type": "code",
   "execution_count": null,
   "id": "3ce6aa87-44be-46dd-800e-78d513d5c24e",
   "metadata": {},
   "outputs": [],
   "source": [
    "fig,ax = plt.subplots(nrows = 1,ncols = 2,figsize = (20,8))\n",
    "\n",
    "ax[0] = pivot_df1.plot(kind = \"bar\", stacked = True, colormap = 'jet',ax = ax[0])\n",
    "ax[0].grid(True)\n",
    "ax[0].set_ylabel(\"Total Charged Off Loans\")\n",
    "ax[0].set_yticks(ticks = range(500,5000,500))\n",
    "ax[0].set_title(\"Total Charged Off Loans By Grade,Term And Int_Rate Ranges \",fontweight = 'bold',fontsize = '16')\n",
    "\n",
    "ax[1] = pivot_df2.plot(kind = \"bar\", stacked = True, colormap = 'Accent',ax = ax[1])\n",
    "ax[1].grid(True)\n",
    "ax[1].set_yticks(ticks = range(0,34,2))\n",
    "ax[1].set_ylabel(\"Percent Charged Off Loans\")\n",
    "ax[1].set_title(\"Percent Charged Off Loans By Grade,Term And Int_Rate Ranges (Stacked %)\",fontweight = 'bold',fontsize = '16')\n",
    "\n",
    "plt.tight_layout()\n",
    "plt.show()"
   ]
  },
  {
   "cell_type": "markdown",
   "id": "8afc6f77-0bd7-4c74-83ba-82e18329bebc",
   "metadata": {},
   "source": [
    "### ***`24. Grade Migration Analysis. Track borrowers’ grade changes between consecutive loans to find cases where grade worsened. Identifies borrowers whose creditworthiness declined over time; helps lenders flag potential future defaults.`***\n",
    "\n",
    "`The Grade Migration Analysis reveals how borrower's creditworthiness evolves across loans. Most high-grade borrowers (A and B) tend to maintain or improve their grades, while lower grades (C–G) show significant worsening, indicating rising risk. The stacked bar shows that No Change dominates, but Worsened loans increase sharply in grades C, D, and E. The histogram of grade changes confirms most changes are small, though negative changes are concentrated in mid-lower grades. The heatmap of previous vs. current grades highlights common transitions, showing some borrowers drop multiple grades between loans, and the boxplot illustrates the spread and outliers of grade changes per current grade. Overall, tracking grade migration helps lenders flag borrowers whose risk profile is deteriorating over time.`"
   ]
  },
  {
   "cell_type": "code",
   "execution_count": null,
   "id": "4f405a71-3d23-4774-83fd-6a88ace63df3",
   "metadata": {},
   "outputs": [],
   "source": [
    "query = \"\"\"WITH grade_mapped AS (SELECT borrower_id,loan_id, grade,loan_status,\n",
    "                                  CASE grade\n",
    "                                    WHEN 'A' THEN 1\n",
    "                                    WHEN 'B' THEN 2\n",
    "                                    WHEN 'C' THEN 3\n",
    "                                    WHEN 'D' THEN 4\n",
    "                                    WHEN 'E' THEN 5\n",
    "                                    WHEN 'F' THEN 6\n",
    "                                    WHEN 'G' THEN 7\n",
    "                                 END AS grade_num\n",
    "                                 FROM loans)\n",
    "\n",
    "SELECT borrower_id,loan_id,loan_status,grade AS current_grade,grade_num,\n",
    "       LAG(grade) OVER (PARTITION BY borrower_id ORDER BY loan_id) AS prev_grade,\n",
    "       LAG(grade_num) OVER (PARTITION BY borrower_id ORDER BY loan_id) AS grade_num_change,\n",
    "       grade_num - LAG(grade_num) OVER (PARTITION BY borrower_id ORDER BY loan_id) AS grade_change,\n",
    "       CASE \n",
    "          WHEN grade_num > LAG(grade_num) OVER (PARTITION BY borrower_id ORDER BY loan_id) THEN 'Worsened'\n",
    "          WHEN grade_num < LAG(grade_num) OVER (PARTITION BY borrower_id ORDER BY loan_id) THEN 'Improved'\n",
    "          ELSE 'No Change'\n",
    "      END AS grade_migration\n",
    "FROM grade_mapped\n",
    "ORDER BY borrower_id, loan_id;\"\"\"\n",
    "\n",
    "df = run_query(conn,query)\n",
    "df['grade_change'] = df['grade_change'].fillna(0).astype('int')\n",
    "df"
   ]
  },
  {
   "cell_type": "code",
   "execution_count": null,
   "id": "8a3efd27-983f-46d4-a0fa-a125ed6a0166",
   "metadata": {},
   "outputs": [],
   "source": [
    "pivot_df1 = df.pivot_table(index = \"current_grade\", columns = \"grade_migration\", values = \"loan_id\", aggfunc = \"count\", fill_value = 0)\n",
    "pivot_df1"
   ]
  },
  {
   "cell_type": "code",
   "execution_count": null,
   "id": "073677d6-f250-4fb0-b5cc-8d06f07c476a",
   "metadata": {},
   "outputs": [],
   "source": [
    "fig,ax = plt.subplots(nrows = 2,ncols = 2,figsize = (18,12))\n",
    "\n",
    "# Shows how many loans improved, worsened, or stayed the same per grade.\n",
    "ax[0,0] = pivot_df1.plot(kind = 'bar',stacked = True,colormap = 'gist_rainbow',ax = ax[0,0])\n",
    "ax[0,0].set_title('Distribution of Grade Migration', fontweight = 'bold',fontsize = '16')\n",
    "ax[0,0].set_ylabel('Number of Loans')\n",
    "ax[0,0].set_xlabel('Grade')\n",
    "ax[0,0].set_yticks(ticks = range(2000,40000,2000))\n",
    "ax[0,0].grid(True)\n",
    "\n",
    "# Grade Change Histogram\n",
    "sns.histplot(data = df, x = 'grade_change', bins = np.arange(-6,7,1), color = 'darkorange',ax = ax[0,1])\n",
    "ax[0,1].set_title('Distribution of Grade Change Values', fontweight = 'bold',fontsize = '16')\n",
    "ax[0,1].set_xlabel('Grade Change (Current - Previous)')\n",
    "ax[0,1].set_ylabel('Count of Loans')\n",
    "ax[0,1].grid(True)\n",
    "ax[0,1].set_xticks(ticks = range(df['grade_change'].min(),df['grade_change'].max()+1))\n",
    "\n",
    "# Highlights common grade migrations (who worsens/improves/stays same).\n",
    "migration_matrix = pd.crosstab(df['current_grade'],df['prev_grade'],dropna = False)\n",
    "print(migration_matrix,end = '\\n\\n')\n",
    "\n",
    "sns.heatmap(migration_matrix, annot = True, fmt = 'd', cmap = 'viridis',ax = ax[1,0])\n",
    "ax[1,0].set_title('Previous Grade vs Current Grade Heatmap', fontweight = 'bold',fontsize = '16')\n",
    "ax[1,0].set_xlabel('Previous Grade')\n",
    "ax[1,0].set_ylabel('Current Grade')\n",
    "\n",
    "# Shows spread of grade change values per current grade and identifies outliers.\n",
    "sns.boxplot(data = df, hue = 'current_grade', y = 'grade_change', palette = 'bright',ax = ax[1,1])\n",
    "ax[1,1].set_title('Grade Change Distribution by Current Grade', fontweight = 'bold',fontsize = '16')\n",
    "ax[1,1].set_ylabel('Grade Change')\n",
    "ax[1,1].set_yticks(ticks = range(-6,7))\n",
    "ax[1,1].grid(True)\n",
    "\n",
    "plt.tight_layout()\n",
    "plt.show()"
   ]
  },
  {
   "cell_type": "markdown",
   "id": "5b3d1a7c-3b63-466a-b361-c15cd188acd2",
   "metadata": {},
   "source": [
    "### ***`25. First and Last Loan Interest Comparison. Compares the interest rate of borrowers’ first and most recent loans. Helps see whether lenders progressively charged higher interest to riskier borrowers; useful for pricing strategy and risk evaluation.`***\n",
    "`The First and Last Loan Interest Comparison highlights how lenders adjust pricing based on borrower behavior over time. Most borrowers either see stable interest rates or an increase, indicating that lenders perceive them as riskier on subsequent loans. Most borrowers experience a small positive change in interest rate between their first and last loan. The distribution is peaked near zero, indicating many borrowers have stable rates, but there’s a slight skew toward positive values. A few borrowers see negative changes, suggesting a small portion improved their creditworthiness. The majority of borrowers fall into Became Riskier or “Stable Rate, Regardless of History” categories. Only a small fraction improved their creditworthiness, highlighting that lenders typically adjust rates upward for perceived risk. This analysis helps in risk monitoring and interest rate adjustment strategies.`"
   ]
  },
  {
   "cell_type": "code",
   "execution_count": null,
   "id": "aedfe34a-43e4-431d-8da2-764cc118b6dc",
   "metadata": {},
   "outputs": [],
   "source": [
    "query = \"\"\"SELECT borrower_id,first_loan_int_rate,last_loan_int_rate,\n",
    "            last_loan_int_rate - first_loan_int_rate AS 'change_in_int_rate',\n",
    "            CASE \n",
    "                WHEN last_loan_int_rate > first_loan_int_rate THEN 'Became Riskier'\n",
    "                WHEN last_loan_int_rate < first_loan_int_rate THEN 'Improved Creditworthiness'\n",
    "                WHEN last_loan_int_rate = first_loan_int_rate THEN 'Stable Rate, Regardless of History'\n",
    "            END AS 'borrowers_behaviour'    \n",
    "            FROM (SELECT borrower_id,loan_id,\n",
    "                    FIRST_VALUE(int_rate) OVER(PARTITION BY borrower_id ORDER BY loan_id) AS 'first_loan_int_rate',\n",
    "                    LAST_VALUE(int_rate) OVER(PARTITION BY borrower_id ORDER BY loan_id ROWS BETWEEN UNBOUNDED PRECEDING AND UNBOUNDED FOLLOWING) \n",
    "                    AS 'last_loan_int_rate',\n",
    "                    ROW_NUMBER() OVER(PARTITION BY borrower_id ORDER BY loan_id) AS r_num\n",
    "                  FROM loans) t\n",
    "            WHERE t.r_num = 1;\"\"\"\n",
    "\n",
    "\n",
    "df = run_query(conn,query)\n",
    "df"
   ]
  },
  {
   "cell_type": "code",
   "execution_count": null,
   "id": "d747d252-db3a-4d0d-958e-11dfd3d020c1",
   "metadata": {},
   "outputs": [],
   "source": [
    "fig,ax = plt.subplots(nrows = 1,ncols = 2,figsize = (15,6))\n",
    "\n",
    "sns.kdeplot(data = df,x = 'change_in_int_rate',ax = ax[0],color = 'deeppink')\n",
    "ax[0].set_xticks(ticks = range(-24,27,3)) \n",
    "ax[0].set_xticklabels(labels = range(-24,27,3),rotation = 35)\n",
    "ax[0].set_title('Probability Distribution For Change In Interest Rate',fontsize = '16',fontweight = 'bold')\n",
    "ax[0].grid(True)\n",
    "\n",
    "sns.barplot(data = df,hue = 'borrowers_behaviour',y = 'borrower_id',estimator = np.count_nonzero,palette = 'magma',ax = ax[1])\n",
    "ax[1].set_title('Total Borrowers By Their Behaviour',fontsize = '16',fontweight = 'bold')\n",
    "ax[1].grid(True)\n",
    "\n",
    "plt.tight_layout()\n",
    "plt.show()"
   ]
  },
  {
   "cell_type": "code",
   "execution_count": null,
   "id": "ff690c07-60f1-4727-82d3-5f0fcd43edbe",
   "metadata": {},
   "outputs": [],
   "source": []
  },
  {
   "cell_type": "code",
   "execution_count": null,
   "id": "1d83d969-9305-4a28-aaf3-efe2a406b9b0",
   "metadata": {},
   "outputs": [],
   "source": []
  },
  {
   "cell_type": "markdown",
   "id": "42d379d4-8ef3-4505-aede-d088fb6ee613",
   "metadata": {},
   "source": [
    "# ***`D. Borrower Behavior & Repayment: How do borrower traits influence repayment?`*** \n",
    "\n",
    "### ***`Borrowers’ traits and financial habits strongly influence repayment. In this section, we analyze how factors like employment, housing, income, and verification affect loan outcomes.`***\n",
    "\n",
    "### ***`Summary-`***\n",
    "\n",
    "`A borrower’s personal traits and financial habits play a big role in whether they repay loans on time. People with stable jobs, longer work history, and owned or mortgaged homes tend to default less because they have more financial stability. Renters or those with short employment histories are more likely to default, especially on mid-risk loans, showing that instability increases repayment risk. Repeat defaulters, particularly those with many accounts or multiple active loans, show a pattern of financial stress and difficulty managing debt. Even high-income borrowers are not immune—verification alone does not prevent defaults. Mid-risk loan grades see higher defaults even among verified or wealthy borrowers, showing that loan quality and risk profile matter more than income verification alone.`\n",
    "\n",
    "`Past loan behavior and borrowing patterns also strongly predict future repayment. Borrowers whose first loan was charged off often default again, while those who fully repaid or stayed current are more likely to maintain good repayment habits. Many repeat defaulters take larger loans over time, which increases their default risk, while some take smaller loans, possibly due to stricter lending limits. Even though income, interest rates, and debt-to-income ratios influence repayment, they are not enough to fully predict defaults. Overall, lenders should combine information on employment stability, housing, loan history, borrowing patterns, and financial stress to identify high-risk borrowers early and manage their loan portfolios more effectively.`"
   ]
  },
  {
   "cell_type": "code",
   "execution_count": null,
   "id": "c138c9aa-7ce4-4d77-9ee8-8440379e7ec3",
   "metadata": {},
   "outputs": [],
   "source": []
  },
  {
   "cell_type": "markdown",
   "id": "1d3afa9e-d85d-43a0-b012-a90e02045bd2",
   "metadata": {},
   "source": [
    "### ***`26. Multi-Dimensional Borrower Risk. Calculates default % for borrowers segmented by (emp_length + home_ownership + grade). Shows combined effect of stability and loan quality on repayment risk; highly useful for portfolio risk assessment. Stable housing and employment usually indicate lower risk; combining them reveals stronger stability signals.`***\n",
    "\n",
    "`The multi-dimensional borrower risk analysis clearly shows that both financial stability and loan quality drive repayment outcomes. Borrowers with own house, mortgages and longer employment histories consistently exhibit lower default rates across nearly all grades, highlighting the protective effect of stable housing and work. Renters and those with shorter employment tenures face higher defaults, particularly in mid-grades C and D, indicating that instability compounds risk even for moderately rated loans. High-grade loans (A–B) remain low-risk across all segments, while lower grades (E–G) show elevated defaults, especially among less stable borrowers. The stacked bar plots vividly illustrate how defaults concentrate in unstable borrower profiles, making hotspots easy to identify. By combining employment length, home ownership, and loan grade, lenders gain a nuanced view of risk, enabling more precise portfolio management. Overall, stability and loan quality together provide the strongest signals for predicting borrower repayment behavior.`"
   ]
  },
  {
   "cell_type": "code",
   "execution_count": null,
   "id": "34aaebd2-da18-4cda-964f-af1cfac27878",
   "metadata": {},
   "outputs": [],
   "source": [
    "query = \"\"\" SELECT home_ownership,emp_length,grade,COUNT(loan_id) AS 'total_default_loans',\n",
    "            ROUND(COUNT(loan_id) * 100 / (SELECT COUNT(loan_id) FROM loans WHERE loan_status = 'charged off'),2)\n",
    "            AS 'percent_default_loans'\n",
    "            FROM loans t1\n",
    "            JOIN borrowers t2\n",
    "            ON t1.borrower_id = t2.borrower_id\n",
    "            WHERE t1.loan_status = 'charged off'\n",
    "            GROUP BY t2.home_ownership,t2.emp_length,t1.grade\n",
    "            ORDER BY home_ownership,emp_length DESC;\"\"\"\n",
    "\n",
    "df = run_query(conn,query)\n",
    "df"
   ]
  },
  {
   "cell_type": "code",
   "execution_count": null,
   "id": "cba02daa-9338-4ce3-8709-e0ff420b9af2",
   "metadata": {},
   "outputs": [],
   "source": [
    "pivot_df1 = df.pivot_table(values = 'total_default_loans', index = ['home_ownership','emp_length'], columns = ['grade'])\n",
    "\n",
    "pivot_df2 = df.pivot_table(values = 'percent_default_loans', index = ['home_ownership','emp_length'], columns = ['grade'])"
   ]
  },
  {
   "cell_type": "code",
   "execution_count": null,
   "id": "73a8caaa-7544-4eb5-b555-8232be877769",
   "metadata": {},
   "outputs": [],
   "source": [
    "pivot_df1"
   ]
  },
  {
   "cell_type": "code",
   "execution_count": null,
   "id": "9cb241ad-4d0c-4e92-9c8a-1e1fc14231f1",
   "metadata": {},
   "outputs": [],
   "source": [
    "pivot_df2"
   ]
  },
  {
   "cell_type": "code",
   "execution_count": null,
   "id": "8c8a6897-4b57-40a6-830c-6aa812bd90f0",
   "metadata": {},
   "outputs": [],
   "source": [
    "fig,ax = plt.subplots(nrows = 1,ncols = 2,figsize = (20,10))\n",
    "\n",
    "pivot_df1.plot(kind = 'bar',stacked = True,colormap = 'jet',ax = ax[0])\n",
    "ax[0].grid(axis = 'y')\n",
    "ax[0].set_yticks(ticks = range(100,1600,100))\n",
    "ax[0].set_ylabel('total default loans')\n",
    "ax[0].set_title('Total Defaults by Home Ownership,Emp Length and Grade',fontweight = 'bold',fontsize = '16')\n",
    "\n",
    "pivot_df2.plot(kind = 'bar',stacked = True,colormap = 'Set1',ax = ax[1])\n",
    "ax[1].grid(axis = 'y')\n",
    "ax[1].set_yticks(ticks = range(0,12))\n",
    "ax[1].set_ylabel('percent default loans')\n",
    "ax[1].set_title('% Defaults by Home Ownership,Emp Length and Grade',fontweight = 'bold',fontsize = '16')\n",
    "\n",
    "plt.tight_layout()\n",
    "plt.show()"
   ]
  },
  {
   "cell_type": "markdown",
   "id": "aeb14f3c-5c05-45bf-ac28-b52cbbb0429c",
   "metadata": {},
   "source": [
    "### ***`27. Repeat Defaulters and Loan Count. Finds borrowers who defaulted on multiple loans and have total_acc > 10. Identifies consistently risky individuals and those juggling many accounts.`***\n",
    "`The analysis of repeat defaulters highlights a small but significant segment of borrowers who default multiple times, despite holding numerous accounts. Borrowers with more than 10 total accounts and multiple defaults represent consistently high-risk individuals who may be over-leveraged or struggling to manage debt. Most repeat defaulters have 2–4 past defaults, showing a clear pattern of recurring repayment challenges. The bar plot illustrates that the majority of borrowers default only twice, signaling the need for closer monitoring. These high-risk borrowers are prime candidates for stricter credit assessment, targeted intervention, or adjusted lending terms. Overall, tracking repeat defaulters helps lenders identify persistent risk profiles and refine strategies to mitigate portfolio exposure.`"
   ]
  },
  {
   "cell_type": "code",
   "execution_count": null,
   "id": "beb3f555-ae6b-4df2-b65c-460a57d90e62",
   "metadata": {},
   "outputs": [],
   "source": [
    "query = \"\"\" SELECT t1.borrower_id,COUNT(t1.loan_id) AS 'num_defaulted_loans'\n",
    "            FROM loans t1\n",
    "            JOIN borrowers t2\n",
    "            ON t1.borrower_id = t2.borrower_id\n",
    "            WHERE t1.loan_status = 'charged off' AND t2.total_acc > 10\n",
    "            GROUP BY t1.borrower_id\n",
    "            HAVING num_defaulted_loans > 1\n",
    "            ORDER BY num_defaulted_loans DESC;\"\"\"\n",
    "\n",
    "df = run_query(conn,query)\n",
    "df"
   ]
  },
  {
   "cell_type": "code",
   "execution_count": null,
   "id": "e94f97da-2a72-4ab9-82fe-45f2bb75af5f",
   "metadata": {},
   "outputs": [],
   "source": [
    "plt.figure(figsize = (15,6))\n",
    "sns.barplot(data = df,hue = 'num_defaulted_loans',y = 'borrower_id',estimator = np.count_nonzero,palette = 'Set1')\n",
    "plt.grid(True)\n",
    "plt.ylabel('total borrowers')\n",
    "plt.title('Total Borrowers By Number of Defaulted Loans',fontweight = 'bold',fontsize = '16')\n",
    "plt.show()"
   ]
  },
  {
   "cell_type": "markdown",
   "id": "ea23f1bd-f64e-466b-bc8a-2319a726225f",
   "metadata": {},
   "source": [
    "### ***`28. Active Loan Overlap. Finds borrowers with more than 1 loan currently in Current status, including total_acc and revol_util. Shows borrowers juggling multiple active obligations and potential overextension risk.`***\n",
    "\n",
    "`The Active Loan Overlap analysis highlights borrowers juggling multiple current loans, revealing potential overextension risk. Most borrowers hold 2–3 active loans, with a smaller segment managing 4, indicating a group under considerable financial strain. Those with more current loans also tend to have higher total accounts and elevated revolving utilization, suggesting that multiple obligations amplify credit exposure. The bar plots clearly show that borrowers with 4 active loans carry the highest average utilization, pointing to heightened repayment vulnerability. While managing multiple accounts can reflect financial activity, it also signals the need for careful monitoring to prevent defaults. Overall, borrowers with overlapping loans and high utilization form a critical group for risk assessment and targeted interventions.`"
   ]
  },
  {
   "cell_type": "code",
   "execution_count": null,
   "id": "f9018cee-7500-45e8-93ff-3106ece807c0",
   "metadata": {},
   "outputs": [],
   "source": [
    "query = \"\"\" SELECT t1.borrower_id,ROUND(AVG(t2.total_acc)) AS 'avg_total_acc' ,ROUND(AVg(t1.revol_util),2) AS 'avg_revol_util',\n",
    "            COUNT(t1.loan_id)  AS 'num_current_loans'\n",
    "            FROM loans t1\n",
    "            JOIN borrowers t2\n",
    "            ON t1.borrower_id = t2.borrower_id\n",
    "            WHERE t1.loan_status = 'current'\n",
    "            GROUP BY t1.borrower_id\n",
    "            HAVING num_current_loans > 1 AND avg_total_acc > 15\n",
    "            ORDER BY num_current_loans DESC;\"\"\"\n",
    "\n",
    "df = run_query(conn,query)\n",
    "df"
   ]
  },
  {
   "cell_type": "code",
   "execution_count": null,
   "id": "a3bafeb9-7a27-4ed4-b64c-f75ce00cbc53",
   "metadata": {},
   "outputs": [],
   "source": [
    "fig,ax = plt.subplots(nrows = 1,ncols = 3,figsize = (22,10))\n",
    "\n",
    "sns.barplot(data = df,hue = 'num_current_loans',y = 'borrower_id',estimator = np.count_nonzero,palette = 'rainbow',ax = ax[0])\n",
    "ax[0].grid(True)\n",
    "ax[0].set_title('Total Borrowers By Current Loans',fontweight = 'bold',fontsize = '16')\n",
    "ax[0].set_ylabel('total borrowers')\n",
    "\n",
    "sns.barplot(data = df,hue = 'num_current_loans',y = 'avg_total_acc',estimator = np.mean,palette = 'Spectral',ax = ax[1],errorbar = None)\n",
    "ax[1].grid(True)\n",
    "ax[1].set_title('Avg Total Account Across Borrowers With Current Loans',fontweight = 'bold',fontsize = '16')\n",
    "\n",
    "sns.barplot(data = df,hue = 'num_current_loans',y = 'avg_revol_util',estimator = np.mean,palette = 'viridis',ax = ax[2],errorbar = None)\n",
    "ax[2].grid(True)\n",
    "ax[2].set_title('Avg Revolution Utilization Across Borrowers With Current Loans',fontweight = 'bold',fontsize = '16')\n",
    "\n",
    "plt.tight_layout()\n",
    "plt.show()"
   ]
  },
  {
   "cell_type": "markdown",
   "id": "652f21c0-e67a-48f1-a45e-f30d442e66ca",
   "metadata": {},
   "source": [
    "### ***`29. Verification + Income + Defaults for High-Income Borrowers. Compares default rates for borrowers with annual_inc > 100k across verification_status and grade. Evaluates if income verification effectively reduces default risk among wealthy borrowers; helps detect gaps in verification policies.`***\n",
    "\n",
    "`For high-income borrowers earning over $100k, we observe an interesting pattern when comparing loan defaults across verification status and grade. While verified borrowers generally have slightly higher average defaulted amounts, they also account for a larger number of defaulted borrowers, especially in mid-risk grades like C and D. This suggests that verification alone does not fully protect lenders from defaults among wealthy borrowers—loan grade and risk profile play a stronger role. Pie charts further reveal that verified borrowers make up a bigger share of both defaulted loans and defaulting borrowers, indicating that even financially strong individuals can default if the loan terms are riskier. Overall, the analysis highlights that income verification is necessary but not sufficient, and combining it with careful grading and risk assessment is crucial for managing high-income borrower portfolios effectively.`"
   ]
  },
  {
   "cell_type": "code",
   "execution_count": null,
   "id": "d25e009a-49af-41c4-8001-4ec0aea58d49",
   "metadata": {},
   "outputs": [],
   "source": [
    "query = \"\"\" SELECT grade,verification_status,ROUND(AVG(loan_amnt),2) AS 'avg_defaulted_amount',\n",
    "            COUNT(loan_id) AS 'num_defaulted_loans',\n",
    "             ROUND(\n",
    "                    COUNT(loan_id) * 100 / \n",
    "                    (SELECT COUNT(loan_id) \n",
    "                     FROM loans t\n",
    "                     JOIN borrowers b ON t.borrower_id = b.borrower_id\n",
    "                     WHERE t.loan_status = 'charged off' AND b.annual_inc > 100000)\n",
    "                ,2) AS percent_default_loans,\n",
    "             ROUND(\n",
    "                    COUNT(DISTINCT t1.borrower_id) * 100 / \n",
    "                    (SELECT COUNT(DISTINCT t.borrower_id) \n",
    "                     FROM loans t\n",
    "                     JOIN borrowers b ON t.borrower_id = b.borrower_id\n",
    "                     WHERE t.loan_status = 'charged off' AND b.annual_inc > 100000)\n",
    "                ,2) AS percent_default_borrowers\n",
    "            FROM loans t1\n",
    "            JOIN borrowers t2\n",
    "            ON t1.borrower_id = t2.borrower_id\n",
    "            WHERE t1.loan_status = 'charged off' AND t2.annual_inc > 100000\n",
    "            GROUP BY t1.grade,t2.verification_status\n",
    "            ORDER BY grade,verification_status DESC;\"\"\"\n",
    "\n",
    "df = run_query(conn,query)\n",
    "df"
   ]
  },
  {
   "cell_type": "code",
   "execution_count": null,
   "id": "8118ab2f-1d78-4244-8349-4589ce33b276",
   "metadata": {},
   "outputs": [],
   "source": [
    "fig,ax = plt.subplots(nrows = 3,ncols = 2 ,figsize = (22,32))\n",
    "\n",
    "sns.barplot(data = df,x = 'grade',y = 'avg_defaulted_amount',hue = 'verification_status',palette = 'inferno',ax = ax[0,0])\n",
    "ax[0,0].set_title('Average Defaulted Loan Amount by Grade & Verification Status', fontsize = 16, fontweight = 'bold')\n",
    "ax[0,0].set_xlabel('Loan Grade')\n",
    "ax[0,0].set_ylabel('Avg Defaulted Amount ($)')\n",
    "ax[0,0].grid(True, axis = 'y')\n",
    "\n",
    "sns.barplot(data = df,x = 'grade',y = 'num_defaulted_loans',hue = 'verification_status',palette = 'icefire',ax = ax[0,1])\n",
    "ax[0,1].set_title('Number of Defaulted Loans by Grade & Verification Status', fontsize = 16, fontweight = 'bold')\n",
    "ax[0,1].set_xlabel('Loan Grade')\n",
    "ax[0,1].set_ylabel('Number of Defaulted Loans')\n",
    "ax[0,1].grid(True, axis = 'y')\n",
    "\n",
    "verified_pie = df[df['verification_status'] == 'Verified']\n",
    "\n",
    "ax[1,0].pie(verified_pie['percent_default_loans'],autopct = '%1.2f%%',colors = sns.color_palette('Set1'),\n",
    "            hatch = ['xX+','O|O','*x*','++','/x/','-Oo-','|X|'],pctdistance = 1.12)\n",
    "ax[1,0].set_title('Percent of Defaulted Loans - Verified Borrowers', fontsize=16, fontweight='bold')\n",
    "ax[1,0].legend(labels = verified_pie['grade'])\n",
    "\n",
    "\n",
    "not_verified_pie = df[df['verification_status'] == 'Not Verified']\n",
    "\n",
    "ax[1,1].pie(not_verified_pie['percent_default_loans'],autopct = '%1.2f%%',colors = sns.color_palette('Set2'),\n",
    "            hatch = ['xX+','O|O','*x*','++','/x/','-Oo-','|X|'],pctdistance = 1.12)\n",
    "ax[1,1].legend(labels = verified_pie['grade'])\n",
    "ax[1,1].set_title('Percent of Defaulted Loans - Not Verified Borrowers', fontsize = 16, fontweight = 'bold')\n",
    "\n",
    "ax[2,0].pie(verified_pie['percent_default_borrowers'],autopct = '%1.2f%%',colors = sns.color_palette('rainbow'),\n",
    "            hatch = ['xX+','O|O','*x*','++','/x/','-Oo-','|X|'],pctdistance = 1.12)\n",
    "ax[2,0].legend(labels = verified_pie['grade'])\n",
    "ax[2,0].set_title('Percent of Defaulted Borrowers - Verified', fontsize = 16, fontweight = 'bold')\n",
    "\n",
    "ax[2,1].pie(not_verified_pie['percent_default_borrowers'],autopct = '%1.2f%%',colors = sns.color_palette('bright'),\n",
    "            hatch = ['xX+','O|O','*x*','++','/x/','-Oo-','|X|'],pctdistance = 1.12)\n",
    "ax[2,1].legend(labels = verified_pie['grade'])\n",
    "ax[2,1].set_title('Percent of Defaulted Borrowers - Not Verified', fontsize = 16, fontweight = 'bold')\n",
    "\n",
    "plt.tight_layout()\n",
    "plt.show()"
   ]
  },
  {
   "cell_type": "markdown",
   "id": "29cba50e-aa79-4a01-8c8a-717f4d27aff4",
   "metadata": {},
   "source": [
    "### ***`30. Repeat Default Trend Analysis. Calculates the difference in loan_amnt between a borrower’s current defaulted loan and previous loan. Shows if repeat defaulters are taking larger loans over time, indicating rising financial stress.`***\n",
    "\n",
    "`The repeat default analysis reveals that borrower's loan behaviors vary significantly over time. A large portion of repeat defaulters are taking bigger loans than their previous ones, indicating rising financial stress or over-leveraging, while others are borrowing smaller amounts, possibly reflecting tighter borrowing limits or cautious behavior. Boxplots show that the magnitude of increase in loan amounts is often substantial, with some borrowers escalating by over $15,000, whereas decreases can be equally dramatic. Scatterplots highlight that higher previous loans don’t always prevent larger subsequent defaults, suggesting that repeat defaulters may not learn from past risk. On average, borrowers who increase their loan size show a positive upward trend in default amounts, underlining the need for lenders to monitor borrowing patterns over time. Overall, this analysis emphasizes that tracking loan size changes among repeat defaulters can provide early warning signals of financial stress and potential risk escalation."
   ]
  },
  {
   "cell_type": "code",
   "execution_count": null,
   "id": "412e8cba-9264-4e5c-99cb-9b6dcf709ca5",
   "metadata": {},
   "outputs": [],
   "source": [
    "query = \"\"\"  WITH defaulted_loans AS (SELECT borrower_id,loan_id,loan_amnt,\n",
    "             LAG(loan_amnt) OVER (PARTITION BY borrower_id ORDER BY loan_id) AS prev_loan_amnt\n",
    "             FROM loans\n",
    "             WHERE loan_status = 'charged off')\n",
    "\n",
    "\n",
    "             SELECT borrower_id,loan_id,loan_amnt AS current_default_loan_amnt, \n",
    "                   prev_loan_amnt,(loan_amnt - prev_loan_amnt) AS loan_amnt_diff,\n",
    "                   CASE\n",
    "                      WHEN loan_amnt - prev_loan_amnt > 0 THEN 'Increased Loan Size'\n",
    "                      WHEN loan_amnt - prev_loan_amnt < 0 THEN 'Decreased Loan Size'\n",
    "                      WHEN loan_amnt - prev_loan_amnt = 0 THEN 'No Change'\n",
    "                   END AS 'repeat_default_behavior'   \n",
    "             FROM defaulted_loans\n",
    "             WHERE prev_loan_amnt IS NOT NULL\n",
    "             ORDER BY borrower_id;\"\"\"\n",
    "\n",
    "df = run_query(conn,query)\n",
    "df"
   ]
  },
  {
   "cell_type": "code",
   "execution_count": null,
   "id": "c36efe63-9ba8-4b99-a21c-dc23e2fe80f5",
   "metadata": {},
   "outputs": [],
   "source": [
    "fig,ax = plt.subplots(nrows = 2,ncols = 2,figsize = (22,14))\n",
    "\n",
    "sns.barplot(data = df,hue = \"repeat_default_behavior\",y = 'borrower_id',estimator = np.count_nonzero,palette = \"rainbow\",ax = ax[0,0])\n",
    "ax[0,0].set_title(\"Distribution of Repeat Default Behavior\",fontsize = '16',fontweight = 'bold')\n",
    "ax[0,0].grid(True)\n",
    "ax[0,0].set_xlabel(\"Behavior Type\")\n",
    "ax[0,0].set_ylabel(\"Number of Borrowers\")\n",
    "\n",
    "sns.boxplot(data = df, hue = \"repeat_default_behavior\", y = \"loan_amnt_diff\", palette = \"Spectral\",ax = ax[0,1])\n",
    "ax[0,1].set_title(\"Loan Amount Difference by Repeat Default Behavior\",fontweight = 'bold',fontsize = '16')\n",
    "ax[0,1].grid(True)\n",
    "ax[0,1].set_xlabel(\"Behavior Type\")\n",
    "ax[0,1].set_ylabel(\"Loan Amount Difference ($)\")\n",
    "\n",
    "sns.scatterplot(data = df, x = \"prev_loan_amnt\", y = \"current_default_loan_amnt\",hue = \"repeat_default_behavior\", \n",
    "                ax = ax[1,0],alpha = 0.6, palette = \"bright\")\n",
    "ax[1,0].set_title(\"Previous vs Current Defaulted Loan Amounts\",fontweight = 'bold',fontsize = '16')\n",
    "ax[1,0].grid(True)\n",
    "ax[1,0].set_xlabel(\"Previous Loan Amount ($)\")\n",
    "ax[1,0].set_ylabel(\"Current Defaulted Loan Amount ($)\")\n",
    "\n",
    "sns.barplot(data = df, hue = \"repeat_default_behavior\", y = \"loan_amnt_diff\", estimator = np.mean, palette =\"husl\",ax = ax[1,1],\n",
    "           errorbar = None)\n",
    "ax[1,1].set_title(\"Average Loan Amount Difference by Behavior\",fontweight = 'bold',fontsize = '16')\n",
    "ax[1,1].grid(True)\n",
    "ax[1,1].set_xlabel(\"Behavior Type\")\n",
    "ax[1,1].set_ylabel(\"Avg Loan Amount Difference ($)\")\n",
    "\n",
    "plt.tight_layout()\n",
    "plt.show()"
   ]
  },
  {
   "cell_type": "markdown",
   "id": "2a98a524-3c26-4ddb-8eda-1f094525e690",
   "metadata": {},
   "source": [
    "### ***`31. First Loan Performance vs Current Status. Evaluates the impact of first loan performance on subsequent loan outcomes to identify trends in repeat defaults and repayment behavior; informs risk models and borrower scoring.`***\n",
    "\n",
    "`The analysis shows that a borrower’s first loan performance strongly influences subsequent loan outcomes. Borrowers whose first loan was charged off have a high chance of repeating defaults, with 46.9% of their next loans also being charged off, while only 18.8% manage to fully repay. Conversely, those whose first loan was fully paid or current are far more likely to continue good repayment behavior, with over 58% of fully paid borrowers staying fully paid and 72% of current borrowers remaining current on their next loan. Late or in-grace-period first loans show mixed outcomes, highlighting moderate risk for future defaults. The heatmap and stacked bar chart reveal clear trends: early loan behavior is a strong predictor for repeat default risk and can inform risk modeling, credit scoring, and targeted monitoring strategies.`"
   ]
  },
  {
   "cell_type": "code",
   "execution_count": null,
   "id": "01bb9bfb-6f6b-4f5f-a4a2-f11bd96f6f93",
   "metadata": {},
   "outputs": [],
   "source": [
    "query = \"\"\" WITH loan_history AS (SELECT borrower_id,loan_id,loan_status,\n",
    "            FIRST_VALUE(loan_status) OVER (PARTITION BY borrower_id ORDER BY loan_id) AS first_loan_status\n",
    "            FROM loans)\n",
    "\n",
    "\n",
    "            SELECT first_loan_status,loan_status AS subsequent_loan_status,COUNT(loan_id) AS num_loans,\n",
    "                   ROUND(100 * COUNT(loan_id) / SUM(COUNT(loan_id)) OVER(PARTITION BY first_loan_status),2) \n",
    "                   AS 'percent_within_group'\n",
    "            FROM loan_history\n",
    "            GROUP BY first_loan_status, loan_status\n",
    "            ORDER BY first_loan_status, percent_within_group DESC;\"\"\"\n",
    "\n",
    "df = run_query(conn,query)\n",
    "df[\"percent_within_group\"] = df[\"percent_within_group\"].astype('float')\n",
    "df"
   ]
  },
  {
   "cell_type": "code",
   "execution_count": null,
   "id": "28cb563c-d0e8-4f70-bc8b-ef7870656d7c",
   "metadata": {},
   "outputs": [],
   "source": [
    "pivot_df1 = df.pivot_table(columns = \"first_loan_status\",index = \"subsequent_loan_status\",values = \"percent_within_group\")\n",
    "pivot_df1"
   ]
  },
  {
   "cell_type": "code",
   "execution_count": null,
   "id": "6afc6eff-dbfb-48d0-a485-fcff3b82e4fa",
   "metadata": {},
   "outputs": [],
   "source": [
    "pivot_df2 = df.pivot_table(index = \"first_loan_status\",columns = \"subsequent_loan_status\",values = \"num_loans\")\n",
    "pivot_df2"
   ]
  },
  {
   "cell_type": "code",
   "execution_count": null,
   "id": "86148927-055d-475e-8c5d-795b64d1f403",
   "metadata": {},
   "outputs": [],
   "source": [
    "fig,ax = plt.subplots(nrows = 1,ncols = 2,figsize = (18,8))\n",
    "\n",
    "sns.heatmap(pivot_df1, annot = True, fmt = \"1.2f\", cmap = \"inferno\", cbar_kws = {'label': 'Percent Within Group'},ax = ax[0])\n",
    "ax[0].set_title(\"Transition from First Loan Status to Subsequent Loan Status (Percent)\", fontsize = 16, fontweight = \"bold\")\n",
    "ax[0].set_xlabel(\"First Loan Status\")\n",
    "ax[0].set_ylabel(\"Subsequent Loan Status\")\n",
    "\n",
    "pivot_df2.plot(kind = \"bar\",stacked = True,colormap = \"jet\",ax = ax[1])\n",
    "ax[1].set_title(\"Distribution of Subsequent Loan Status by First Loan Status\", fontsize = 14, fontweight = \"bold\")\n",
    "ax[1].set_xlabel(\"First Loan Status\")\n",
    "ax[1].set_ylabel(\"Number of Loans\")\n",
    "ax[1].set_yticks(ticks = range(3000,70000,3000))\n",
    "ax[1].grid(True)\n",
    "\n",
    "plt.tight_layout()\n",
    "plt.show()"
   ]
  },
  {
   "cell_type": "markdown",
   "id": "602a1d2b-973e-43e6-804d-f4cef7280b8e",
   "metadata": {},
   "source": [
    "### ***`32. Defaulters vs Paid. Tests if income,interest rate,dti truly ensures repayment or if defaults occur across levels.`***\n",
    "\n",
    "`The analysis shows that while income, interest rate, and debt-to-income (DTI) influence repayment behavior, they do not fully guarantee it. Borrowers who defaulted had slightly lower average incomes ($79,360) than those who repaid ($80,540), but faced higher interest rates (15.7% vs 12.1%) and higher DTI (21.7% vs 18.5%). This indicates that elevated borrowing costs and financial strain increase default risk, even among relatively well-off borrowers. Despite these differences, a significant portion (36.2%) of borrowers still defaulted, highlighting that income alone is not enough to predict repayment. The pie chart confirms that most borrowers (82.2%) successfully repay, but monitoring interest and DTI remains crucial for identifying potential risks and guiding lending decisions.`"
   ]
  },
  {
   "cell_type": "code",
   "execution_count": null,
   "id": "4eb36915-b7df-4ee7-88c4-906bf1121bd2",
   "metadata": {},
   "outputs": [],
   "source": [
    "query = \"\"\" SELECT \n",
    "                CASE \n",
    "                    WHEN loan_status = 'charged off' THEN 'Defaulted'\n",
    "                    WHEN loan_status = 'fully paid'  THEN 'Repaid'\n",
    "                END AS 'repayment_group',\n",
    "                ROUND(AVG(annual_inc), 2) AS 'avg_income',\n",
    "                ROUND(AVG(int_rate), 2) AS 'avg_int_rate',\n",
    "                ROUND(AVG(dti), 2) AS 'avg_dti',\n",
    "                ROUND( COUNT(DISTINCT(t1.borrower_id)) * 100 / \n",
    "                       (SELECT COUNT(DISTINCT(borrower_id)) FROM loans WHERE loan_status IN ('charged off', 'fully paid'))\n",
    "                     ,2) \n",
    "                AS 'percent_borrowers'\n",
    "            FROM loans t1\n",
    "            JOIN borrowers t2\n",
    "            ON t1.borrower_id = t2.borrower_id\n",
    "            WHERE loan_status IN ('charged off', 'fully paid')\n",
    "            GROUP BY repayment_group\n",
    "            ORDER BY repayment_group;\"\"\"\n",
    "\n",
    "df = run_query(conn,query)\n",
    "df"
   ]
  },
  {
   "cell_type": "code",
   "execution_count": null,
   "id": "a615cb0d-d99f-4e63-8d15-a4f44c019727",
   "metadata": {},
   "outputs": [],
   "source": [
    "fig, ax = plt.subplots(nrows = 2,ncols = 2, figsize=(16, 12))\n",
    "\n",
    "sns.barplot(data = df, hue = \"repayment_group\", y = \"avg_income\", palette = \"husl\", ax = ax[0,0])\n",
    "ax[0,0].set_title(\"Average Income by Repayment Group\", fontsize = 16, fontweight = \"bold\")\n",
    "ax[0,0].set_xlabel(\"Repayment Group\")\n",
    "ax[0,0].set_ylabel(\"Average Income\")\n",
    "ax[0,0].grid(True)\n",
    "\n",
    "sns.barplot(data = df, hue = \"repayment_group\", y = \"avg_int_rate\", palette = \"magma\", ax = ax[0,1])\n",
    "ax[0,1].set_title(\"Average Interest Rate by Repayment Group\", fontsize = 16, fontweight = \"bold\")\n",
    "ax[0,1].set_xlabel(\"Repayment Group\")\n",
    "ax[0,1].set_ylabel(\"Average Interest Rate (%)\")\n",
    "ax[0,1].grid(True)\n",
    "\n",
    "sns.barplot(data = df, hue = \"repayment_group\", y = \"avg_dti\", palette = \"Set1\", ax = ax[1,0])\n",
    "ax[1,0].set_title(\"Average DTI by Repayment Group\", fontsize = 16, fontweight = \"bold\")\n",
    "ax[1,0].set_xlabel(\"Repayment Group\")\n",
    "ax[1,0].set_ylabel(\"Average DTI (%)\")\n",
    "ax[1,0].grid(True)\n",
    "\n",
    "ax[1,1].pie(df[\"percent_borrowers\"],autopct = '%1.1f%%',colors = sns.color_palette(\"Spectral\"),\n",
    "            hatch = ['O+X','*||*'],pctdistance = 1.12)\n",
    "ax[1,1].legend(labels = df[\"repayment_group\"])\n",
    "ax[1,1].set_title(\"Distribution of Borrowers by Repayment Group\", fontsize=14, fontweight=\"bold\")\n",
    "\n",
    "plt.tight_layout()\n",
    "plt.show()"
   ]
  },
  {
   "cell_type": "code",
   "execution_count": null,
   "id": "7e2e5849-137a-4f7e-b0d3-82352e112748",
   "metadata": {},
   "outputs": [],
   "source": []
  },
  {
   "cell_type": "code",
   "execution_count": null,
   "id": "cb49b7e4-95f8-4ece-9967-3b4c2bbd7197",
   "metadata": {},
   "outputs": [],
   "source": []
  },
  {
   "cell_type": "markdown",
   "id": "79210583-8705-4e03-a3d6-50fbae60ec6f",
   "metadata": {},
   "source": [
    "# ***`E. Advanced Insights & Portfolio Strategy : What strategic insights can improve portfolio health?`***\n",
    "\n",
    "### ***`Finally, we combine borrower and loan dimensions to uncover hidden patterns. This helps us segment risky borrowers, identify safe bets, and suggest strategies for a healthier loan portfolio.`***\n",
    "\n",
    "### ***`Summary- `***\n",
    "\n",
    "`In Area E, we combined borrower and loan factors to uncover patterns that help improve portfolio health and reduce risk. Verification status matters less than loan grade—high-grade loans remain low-risk even if not verified, while low-grade loans are risky regardless. Borrowers with high debt-to-income ratios and high revolving utilization face much higher default risk, and short employment tenure slightly increases risk. Home ownership slightly influences rates and loan amounts, but the biggest risk comes from lower grades rather than ownership type.`\n",
    "\n",
    "`Portfolio concentration shows that debt consolidation loans in grades B and C dominate exposure, making these segments critical for monitoring. Multi-grade borrowers (who take loans across grades) show slightly higher defaults and interest rates, indicating potential repeat borrowing and risk. Delinquency history is a strong early warning signal, as past delinquencies significantly increase default likelihood across grades. Finally, the safest lending zones combine high grades with popular purposes like debt consolidation, moving, and home improvement, offering high repayment percentages while maintaining portfolio scale. Overall, these insights guide lenders to focus on stable, high-grade borrowers and carefully monitor risky segments to improve portfolio performance.`"
   ]
  },
  {
   "cell_type": "code",
   "execution_count": null,
   "id": "b0f57dfd-4820-4551-b91b-8d9f7a5c0194",
   "metadata": {},
   "outputs": [],
   "source": []
  },
  {
   "cell_type": "markdown",
   "id": "2352257a-1da7-40ee-9a69-2d1f6711003a",
   "metadata": {},
   "source": [
    "### ***`33. Verification × Grade: Which combos default the most? Verifies if income verification meaningfully reduces risk within each grade.`***\n",
    "\n",
    "`The analysis shows that loan grade is the strongest driver of defaults, with lower grades (F–G) experiencing the highest default percentages, while high grades (A–B) maintain very low defaults. Income verification has only a small effect—verified and non-verified borrowers in the same grade show similar default rates, indicating that verification alone does not significantly reduce risk. Mid-grades like C–D see noticeable jumps in defaults, suggesting these borrowers carry moderate risk that requires careful monitoring. Interestingly, average interest rates rise steadily as grade decreases, correlating with higher defaults and reflecting lenders’ attempt to price for risk. Scatterplots highlight this relationship, showing that loans with higher interest rates consistently have higher default percentages regardless of verification. Overall, the results suggest that while verification provides some assurance, loan grade and interest rate are far better indicators of default risk, guiding lenders to focus on loan quality and borrower risk profile.`"
   ]
  },
  {
   "cell_type": "code",
   "execution_count": null,
   "id": "a7a8639f-8bb1-4461-8d17-b4c570043f28",
   "metadata": {},
   "outputs": [],
   "source": [
    "query = \"\"\" WITH base AS (\n",
    "              SELECT l.grade,\n",
    "                     b.verification_status,\n",
    "                     l.int_rate,\n",
    "                     l.loan_status\n",
    "              FROM loans l\n",
    "              JOIN borrowers b ON l.borrower_id = b.borrower_id\n",
    "            )\n",
    "            \n",
    "            SELECT\n",
    "              grade,\n",
    "              verification_status,\n",
    "              COUNT(*) AS 'loan_count',\n",
    "              ROUND(AVG(CASE WHEN loan_status='charged off' THEN 1 ELSE 0 END)*100,2) AS 'default_pct',\n",
    "              ROUND(AVG(int_rate), 2) AS 'avg_int_rate'\n",
    "            FROM base\n",
    "            GROUP BY grade, verification_status\n",
    "            HAVING loan_count >= 100\n",
    "            ORDER BY grade,verification_status DESC;\"\"\"\n",
    "\n",
    "df = run_query(conn,query)\n",
    "df"
   ]
  },
  {
   "cell_type": "code",
   "execution_count": null,
   "id": "96469e02-7967-410f-87c1-5c28fe6793a2",
   "metadata": {},
   "outputs": [],
   "source": [
    "fig, ax = plt.subplots(nrows=2, ncols=2, figsize=(18,12))\n",
    "\n",
    "sns.barplot(data = df,x = 'grade',y = 'default_pct',hue = 'verification_status',palette = 'rainbow',ax = ax[0,0])\n",
    "ax[0,0].set_title('Default Percentage by Grade & Verification Status', fontsize = 14, fontweight = 'bold')\n",
    "ax[0,0].set_ylabel('% of Loans Defaulted')\n",
    "ax[0,0].set_xlabel('Loan Grade')\n",
    "ax[0,0].grid(True, axis = 'y')\n",
    "\n",
    "sns.barplot(data = df,x = 'grade',y = 'loan_count',hue = 'verification_status',palette = 'inferno',ax = ax[0,1])\n",
    "ax[0,1].set_title('Number of Loans by Grade & Verification Status', fontsize = 14, fontweight = 'bold')\n",
    "ax[0,1].set_ylabel('Loan Count')\n",
    "ax[0,1].set_xlabel('Loan Grade')\n",
    "ax[0,1].grid(True, axis = 'y')\n",
    "\n",
    "sns.barplot(data = df,x = 'grade',y = 'avg_int_rate',hue = 'verification_status',palette = 'Set1', ax = ax[1,0])\n",
    "ax[1,0].set_title('Average Interest Rate by Grade & Verification Status', fontsize = 14, fontweight = 'bold')\n",
    "ax[1,0].set_ylabel('Avg Interest Rate (%)')\n",
    "ax[1,0].set_xlabel('Loan Grade')\n",
    "ax[1,0].grid(True, axis = 'y')\n",
    "\n",
    "sns.scatterplot(data = df,x = 'avg_int_rate',y = 'default_pct',hue = 'verification_status',style = 'grade',\n",
    "                s = 200,palette = 'bright',ax = ax[1,1])\n",
    "ax[1,1].set_title('Default % vs Avg Interest Rate', fontsize=14, fontweight='bold')\n",
    "ax[1,1].set_xlabel('Average Interest Rate (%)')\n",
    "ax[1,1].set_ylabel('Default %')\n",
    "ax[1,1].grid(True)\n",
    "\n",
    "plt.tight_layout()\n",
    "plt.show()\n"
   ]
  },
  {
   "cell_type": "markdown",
   "id": "73ea926c-c11d-456f-8a66-c17db73c73d6",
   "metadata": {},
   "source": [
    "### ***`34. DTI × Revolving Utilization Risk Grid. Interaction of leverage (DTI) and utilization often explains defaults better than either alone.`***\n",
    "\n",
    "`The analysis shows that defaults are strongly influenced by the combination of debt-to-income (DTI) and revolving credit utilization, with high DTI (≥40%) and high utilization (≥90%) borrowers facing the highest default rates above 20%. Lower DTI borrowers (<10%) generally have low defaults, but rising utilization still increases risk, highlighting that over-leveraging matters even for financially stable borrowers. Mid-range DTI and utilization buckets (20–40% DTI, 60–90% utilization) show moderate defaults, suggesting that both metrics together provide a clearer picture of financial stress than either alone. Heatmaps reveal that average interest rates increase steadily with higher DTI and utilization, reflecting lenders risk-based pricing. Overall, the interaction of DTI and revolving utilization effectively identifies borrowers at higher risk of default, helping lenders prioritize monitoring and adjust terms for those under financial strain.`"
   ]
  },
  {
   "cell_type": "code",
   "execution_count": null,
   "id": "0a4836f8-ed94-498b-b5fa-44ea6816ebb7",
   "metadata": {},
   "outputs": [],
   "source": [
    "query = \"\"\" WITH seg AS (\n",
    "              SELECT\n",
    "                CASE\n",
    "                  WHEN dti < 10 THEN '<10'\n",
    "                  WHEN dti >=10 AND dti < 20 THEN '10-20'\n",
    "                  WHEN dti >= 20 AND dti < 30 THEN '20-30'\n",
    "                  WHEN dti >= 30 AND dti < 40 THEN '30-40'\n",
    "                  ELSE '>=40'\n",
    "                END AS dti_bucket,\n",
    "                CASE\n",
    "                  WHEN revol_util < 30 THEN '<30%'\n",
    "                  WHEN revol_util >= 30 AND revol_util < 60 THEN '30-60%'\n",
    "                  WHEN revol_util >= 60 AND revol_util < 90 THEN '60-90%'\n",
    "                  ELSE '>=90%'\n",
    "                END AS revol_util_bucket,\n",
    "                loan_status,\n",
    "                int_rate\n",
    "              FROM loans\n",
    "            )\n",
    "            \n",
    "            SELECT\n",
    "              dti_bucket,\n",
    "              revol_util_bucket,\n",
    "              COUNT(*) AS loan_count,\n",
    "              ROUND(AVG(CASE WHEN loan_status = 'charged off' THEN 1 ELSE 0 END)*100, 2) AS default_pct,\n",
    "              ROUND(AVG(int_rate), 2) AS avg_int_rate\n",
    "            FROM seg\n",
    "            GROUP BY dti_bucket, revol_util_bucket\n",
    "            ORDER BY dti_bucket , loan_count DESC;\"\"\"\n",
    "\n",
    "df = run_query(conn,query)\n",
    "df['default_pct'] = df['default_pct'].astype('float') \n",
    "df['avg_int_rate'] = df['avg_int_rate'].astype('float') \n",
    "df"
   ]
  },
  {
   "cell_type": "code",
   "execution_count": null,
   "id": "d4f6f1a1-a268-4949-9169-9dda0c4c209c",
   "metadata": {},
   "outputs": [],
   "source": [
    "default_pct_pivot = df.pivot(index = 'dti_bucket', columns = 'revol_util_bucket', values = 'default_pct')\n",
    "avg_rate_pivot = df.pivot(index = 'dti_bucket', columns = 'revol_util_bucket', values = 'avg_int_rate')\n",
    "\n",
    "fig, ax = plt.subplots(nrows = 1, ncols = 2, figsize=(18,8))\n",
    "\n",
    "\n",
    "sns.heatmap(default_pct_pivot, annot = True, fmt = \"1.2f\", cmap=\"inferno\", ax=ax[0])\n",
    "ax[0].set_title(\"Default % by DTI and Revolving Utilization\", fontsize = 14, fontweight = 'bold')\n",
    "ax[0].set_xlabel(\"Revolving Utilization Bucket\")\n",
    "ax[0].set_ylabel(\"DTI Bucket\")\n",
    "\n",
    "sns.heatmap(avg_rate_pivot, annot = True, fmt = \"1.2f\", cmap = \"jet\", ax = ax[1])\n",
    "ax[1].set_title(\"Average Interest Rate by DTI and Revolving Utilization\", fontsize = 14, fontweight = 'bold')\n",
    "ax[1].set_xlabel(\"Revolving Utilization Bucket\")\n",
    "ax[1].set_ylabel(\"DTI Bucket\")\n",
    "\n",
    "plt.tight_layout()\n",
    "plt.show()"
   ]
  },
  {
   "cell_type": "markdown",
   "id": "bdfeeb6f-0800-475e-ac87-e5b073972eac",
   "metadata": {},
   "source": [
    "### ***`35. Emp-Length Risk Ranking (by delinquency & default). Verifies if tenure stability should reduce delinquencies and defaults.`***\n",
    "\n",
    "`The analysis shows that employment length has a clear relationship with loan default risk. Borrowers with very short employment tenure (2–3 years) have the highest default percentages, while those with longer tenures (7–9 years) tend to default less, indicating that job stability reduces repayment risk. Loan counts are highest among mid-tenure borrowers (3–8 years), showing that most borrowers fall in this range, but defaults still vary based on tenure. The line plot highlights a gradual decrease in default rates as employment length increases, supporting the idea that stable employment provides a protective effect. Overall, lenders can use employment length as a simple yet effective signal to rank borrower risk and adjust lending strategies accordingly.`"
   ]
  },
  {
   "cell_type": "code",
   "execution_count": null,
   "id": "c5113687-1d4f-4a50-bd26-ae67ed052c95",
   "metadata": {},
   "outputs": [],
   "source": [
    "query = \"\"\" WITH m AS (\n",
    "              SELECT\n",
    "                b.emp_length AS 'emp_len',\n",
    "                COUNT(*) AS 'loan_count',\n",
    "                AVG(l.delinq_2yrs) AS 'avg_delinq_2yrs',\n",
    "                AVG(CASE WHEN l.loan_status = 'charged off' THEN 1 ELSE 0 END) AS 'default_rate'\n",
    "              FROM borrowers b\n",
    "              JOIN loans l \n",
    "              ON l.borrower_id = b.borrower_id\n",
    "              GROUP BY b.emp_length\n",
    "              HAVING COUNT(*) >= 100\n",
    "            )\n",
    "            \n",
    "            SELECT\n",
    "              emp_len,\n",
    "              loan_count,\n",
    "              ROUND(avg_delinq_2yrs, 2) AS 'avg_delinq_2yrs',\n",
    "              ROUND(default_rate*100, 2) AS 'default_pct',\n",
    "              RANK() OVER (ORDER BY default_rate DESC) AS risk_rank\n",
    "            FROM m\n",
    "            ORDER BY risk_rank;\"\"\"\n",
    "\n",
    "df = run_query(conn,query)\n",
    "df"
   ]
  },
  {
   "cell_type": "code",
   "execution_count": null,
   "id": "d1461995-b98b-4a4e-a4aa-03ca67ccca90",
   "metadata": {},
   "outputs": [],
   "source": [
    "fig, ax = plt.subplots(nrows = 1, ncols = 2, figsize = (15,6))\n",
    "\n",
    "sns.barplot(data = df,x ='emp_len',hue ='emp_len',y ='loan_count',palette = 'rainbow',ax = ax[0],legend = False)\n",
    "ax[0].set_xlabel(\"Employment Length (Years)\")\n",
    "ax[0].set_ylabel(\"Loan Count\")\n",
    "ax[0].set_title(\"Loan Count by Employment Length\", fontsize = 14, fontweight = 'bold')\n",
    "ax[0].grid(True)\n",
    "\n",
    "sns.lineplot(data = df,x = 'emp_len',y = 'default_pct',marker = 'o',color = 'red',markersize = 8,ax = ax[1])\n",
    "ax[1].set_xlabel(\"Employment Length (Years)\")\n",
    "ax[1].set_ylabel(\"Default %\")\n",
    "ax[1].set_title(\"Default % by Employment Length\", fontsize = 14, fontweight = 'bold')\n",
    "ax[1].grid(True, axis='y')\n",
    "\n",
    "plt.tight_layout()\n",
    "plt.show()"
   ]
  },
  {
   "cell_type": "markdown",
   "id": "afe5f7ef-4d29-42b3-ab69-41362d55eab6",
   "metadata": {},
   "source": [
    "### ***`36. Home-Ownership Bias After Controlling for Grade. Do certain home-ownership types get higher/lower rates vs their grade average?`***\n",
    "\n",
    "`The analysis shows subtle patterns in how home-ownership affects loan terms within the same grade. For example, in grade F, borrowers who own homes had slightly higher interest rates (+0.05% vs grade average) while renters were slightly below average (-0.02%), indicating lenders may see owners as able to handle higher risk. Mortgage holders often took larger loans, like in grade G where their average loan amount was $19,062, about $465 above the grade average, while renters had smaller loans ($18,485, $112 below average). Across most grades, the differences are modest, showing that grade remains the main driver, but home-ownership subtly adjusts both interest rate and loan size. Overall, lenders appear to make small, data-driven tweaks based on property status to balance risk while keeping terms consistent with the grade.`"
   ]
  },
  {
   "cell_type": "code",
   "execution_count": null,
   "id": "e0b1246e-139c-4642-8af9-2a203c7eecb5",
   "metadata": {},
   "outputs": [],
   "source": [
    "query = \"\"\" WITH base AS (\n",
    "              SELECT l.grade, b.home_ownership, l.int_rate, l.loan_amnt\n",
    "              FROM loans l\n",
    "              JOIN borrowers b \n",
    "              ON b.borrower_id = l.borrower_id\n",
    "            ),\n",
    "            grade_avg AS (\n",
    "              SELECT grade,\n",
    "                     ROUND(AVG(int_rate),2)  AS 'grade_avg_rate',\n",
    "                     ROUND(AVG(loan_amnt)) AS 'grade_avg_amt'\n",
    "              FROM base\n",
    "              GROUP BY grade\n",
    "            )\n",
    "            SELECT\n",
    "              b.grade,\n",
    "              b.home_ownership,\n",
    "              COUNT(*) AS loan_count,g.grade_avg_rate, g.grade_avg_amt,\n",
    "              ROUND(AVG(b.int_rate), 2) AS 'avg_int_rate',\n",
    "              ROUND(AVG(b.int_rate) - g.grade_avg_rate, 2) AS 'rate_vs_grade',\n",
    "              ROUND(AVG(b.loan_amnt)) AS 'avg_loan_amnt',\n",
    "              ROUND(AVG(b.loan_amnt) - g.grade_avg_amt, 0) AS 'amt_vs_grade'\n",
    "            FROM base b\n",
    "            JOIN grade_avg g \n",
    "            ON b.grade = g.grade\n",
    "            GROUP BY b.grade, b.home_ownership, g.grade_avg_rate, g.grade_avg_amt\n",
    "            HAVING loan_count >= 100\n",
    "            ORDER BY b.grade, rate_vs_grade DESC;\"\"\"\n",
    "\n",
    "df = run_query(conn,query)\n",
    "df"
   ]
  },
  {
   "cell_type": "code",
   "execution_count": null,
   "id": "441d222b-3169-44bf-a3cb-76eeb3b4ccde",
   "metadata": {},
   "outputs": [],
   "source": [
    "fig, ax = plt.subplots(nrows=2, ncols=2, figsize=(24,18))\n",
    "\n",
    "sns.barplot(data = df,x = 'grade',y = 'loan_count',hue = 'home_ownership',palette = 'viridis',ax = ax[0,0])\n",
    "ax[0,0].set_title('Loan Count by Grade & Home Ownership',fontsize = 14,fontweight = 'bold')\n",
    "ax[0,0].set_ylabel('Loan Count')\n",
    "ax[0,0].set_xlabel('Grade')\n",
    "ax[0,0].grid(True)\n",
    "\n",
    "sns.barplot(data = df,x = 'grade',y = 'avg_loan_amnt',hue = 'home_ownership',palette = 'cool',ax = ax[0,1])\n",
    "ax[0,1].set_title('Average Loan Amount by Grade & Home Ownership',fontsize = 14,fontweight = 'bold')\n",
    "ax[0,1].set_ylabel('Avg Loan Amount ($)')\n",
    "ax[0,1].set_xlabel('Grade')\n",
    "ax[0,1].grid(True)\n",
    "\n",
    "sns.barplot(data = df,x = 'grade',y = 'rate_vs_grade',hue = 'home_ownership',palette = 'Spectral',ax = ax[1,0])\n",
    "ax[1,0].set_title('Interest Rate Deviation from Grade Average',fontsize = 14,fontweight = 'bold')\n",
    "ax[1,0].set_ylabel('Rate Deviation')\n",
    "ax[1,0].grid(True)\n",
    "\n",
    "sns.barplot(data = df,x = 'grade',y = 'amt_vs_grade',hue = 'home_ownership',palette = 'inferno',ax = ax[1,1])\n",
    "ax[1,1].set_title('Loan Amount Deviation from Grade Average',fontsize = 14,fontweight = 'bold')\n",
    "ax[1,1].set_ylabel('Amount Deviation')\n",
    "ax[1,1].grid(True)\n",
    "\n",
    "plt.tight_layout()\n",
    "plt.show()"
   ]
  },
  {
   "cell_type": "markdown",
   "id": "e0027409-ad5d-4d50-8451-e88a0911e77e",
   "metadata": {},
   "source": [
    "### ***`37. Concentration Risk: Top Grade–Purpose Mix by Share of Portfolio. Identify segments dominating exposure.`***\n",
    "\n",
    "`The concentration risk analysis shows that a few loan segments dominate the portfolio. Debt consolidation loans in grades C, B, and A alone make up over 43% of total exposure, with grade C debt consolidation topping the list at 17.4%. Credit card loans and lower-grade debt consolidation add another 15–20%, highlighting that a handful of grade–purpose combinations account for most of the portfolio. The cumulative share plot shows that the top 10 segments cover more than 82% of the portfolio, revealing a strong concentration in a few segments. This indicates potential vulnerability: if defaults spike in these top segments, portfolio health could be significantly affected. Lenders can use this insight to diversify exposure, adjust risk limits, or focus monitoring on high-share segments to reduce systemic risk.`"
   ]
  },
  {
   "cell_type": "code",
   "execution_count": null,
   "id": "8cbff663-305b-4149-8518-62c89191e085",
   "metadata": {},
   "outputs": [],
   "source": [
    "query = \"\"\"WITH mix AS (\n",
    "  SELECT grade, purpose, SUM(loan_amnt) AS amt\n",
    "  FROM loans\n",
    "  GROUP BY grade, purpose\n",
    "),\n",
    "tot AS (SELECT SUM(loan_amnt) AS total_amt FROM loans)\n",
    "SELECT\n",
    "  m.grade,\n",
    "  m.purpose,\n",
    "  m.amt,\n",
    "  ROUND(m.amt / t.total_amt * 100, 2) AS portfolio_share_pct,\n",
    "  RANK() OVER (ORDER BY m.amt DESC) AS size_rank\n",
    "FROM mix m\n",
    "CROSS JOIN tot t\n",
    "ORDER BY size_rank LIMIT 15;\"\"\"\n",
    "\n",
    "df = run_query(conn,query)\n",
    "df"
   ]
  },
  {
   "cell_type": "code",
   "execution_count": null,
   "id": "ef5f393e-3628-4b3f-956d-eb84f43709cf",
   "metadata": {},
   "outputs": [],
   "source": [
    "# Sort by portfolio share %\n",
    "df_sorted = df.sort_values(\"portfolio_share_pct\", ascending = False).reset_index(drop = True)\n",
    "df_sorted[\"cum_share\"] = df_sorted[\"portfolio_share_pct\"].cumsum()\n",
    "df_sorted"
   ]
  },
  {
   "cell_type": "code",
   "execution_count": null,
   "id": "ff1e10bf-17b2-4ac3-8847-f323fb665981",
   "metadata": {},
   "outputs": [],
   "source": [
    "fig, ax = plt.subplots(nrows = 1, ncols = 2, figsize = (15,6))\n",
    "\n",
    "# 1. Barplot: portfolio share % show top 15 for clarity\n",
    "sns.barplot(data = df_sorted.head(15),x = \"portfolio_share_pct\",y = \"purpose\",hue = \"grade\",palette = \"rainbow\",ax = ax[0])\n",
    "ax[0].set_title(\"Top Grade–Purpose Segments by Portfolio Share\",fontsize = 14,fontweight = \"bold\")\n",
    "ax[0].set_xlabel(\"Portfolio Share (%)\")\n",
    "ax[0].set_ylabel(\"Purpose\")\n",
    "ax[0].grid(True)\n",
    "\n",
    "# 2. Line plot: cumulative portfolio share\n",
    "ax[1].plot(df_sorted[\"size_rank\"],df_sorted[\"cum_share\"],marker = \"D\",color = \"cyan\",markersize = 10)\n",
    "ax[1].set_title(\"Cumulative Portfolio Share by Segment Rank\",fontsize = 14,fontweight = \"bold\")\n",
    "ax[1].set_xlabel(\"Segment Rank\")\n",
    "ax[1].set_ylabel(\"Cumulative Share (%)\")\n",
    "ax[1].grid(True)\n",
    "\n",
    "plt.tight_layout()\n",
    "plt.show()"
   ]
  },
  {
   "cell_type": "markdown",
   "id": "69744cfa-0f01-4e78-a292-8fbbbf0cc4b4",
   "metadata": {},
   "source": [
    "### ***`38. Cross-Grade Borrowers vs Single-Grade: Risk & Pricing. Multi-grade borrowers may indicate repeat borrowing; check risk & pricing.`***\n",
    "\n",
    "`The analysis shows that borrowers taking loans across multiple grades (multi-grade) are slightly riskier than single-grade borrowers, with a default rate of 11.6% versus 10.7%. Multi-grade borrowers also face higher average interest rates (12.6% compared to 11.9%), reflecting lenders’ attempts to price in the additional risk. This suggests that repeat or varied borrowing behavior may indicate financial strain or over-leveraging. The bar plots clearly highlight that while single-grade borrowers are more stable, multi-grade borrowers form a larger portion of total loans (102,547 vs 22,328), making them an important segment to monitor. Lenders can use this insight to adjust credit limits, interest rates, or implement stricter monitoring for multi-grade borrowers to mitigate potential portfolio risk.`"
   ]
  },
  {
   "cell_type": "code",
   "execution_count": null,
   "id": "41d53f70-bf9d-4c99-8cc6-503eff55095a",
   "metadata": {},
   "outputs": [],
   "source": [
    "query = \"\"\" WITH grade_counts AS (\n",
    "              SELECT borrower_id, COUNT(DISTINCT grade) AS distinct_grades\n",
    "              FROM loans\n",
    "              GROUP BY borrower_id\n",
    "            ),\n",
    "            labeled AS (\n",
    "              SELECT\n",
    "                CASE WHEN gc.distinct_grades >= 2 THEN 'multi-grade' ELSE 'single-grade' END AS grades_type,\n",
    "                l.loan_status,\n",
    "                l.int_rate\n",
    "              FROM grade_counts gc\n",
    "              JOIN loans l\n",
    "              ON l.borrower_id = gc.borrower_id\n",
    "            )\n",
    "            \n",
    "            SELECT\n",
    "              grades_type,\n",
    "              COUNT(*) AS loan_count,\n",
    "              ROUND(AVG(CASE WHEN loan_status = 'charged off' THEN 1 ELSE 0 END)*100, 2) AS default_pct,\n",
    "              ROUND(AVG(int_rate), 2) AS avg_int_rate\n",
    "            FROM labeled\n",
    "            GROUP BY grades_type;\"\"\"\n",
    "\n",
    "df = run_query(conn,query)\n",
    "df"
   ]
  },
  {
   "cell_type": "code",
   "execution_count": null,
   "id": "90dd5ebc-a498-45c4-8a65-5911fb03b119",
   "metadata": {},
   "outputs": [],
   "source": [
    "fig, ax = plt.subplots(nrows = 1,ncols = 2, figsize = (15,6))\n",
    "\n",
    "# 1. Default percentage\n",
    "sns.barplot( data = df,hue = \"grades_type\",y = \"default_pct\",palette = \"icefire\",ax = ax[0])\n",
    "ax[0].set_title(\"Default %: Multi-grade vs Single-grade\",fontsize = 14,fontweight = \"bold\")\n",
    "ax[0].set_xlabel(\"Borrower Type\")\n",
    "ax[0].set_ylabel(\"Default %\")\n",
    "ax[0].grid(True)\n",
    "\n",
    "# 2. Average Interest Rate\n",
    "sns.barplot(data = df,hue = \"grades_type\",y = \"avg_int_rate\",palette = \"magma\",ax = ax[1])\n",
    "ax[1].set_title(\"Avg Interest Rate: Multi-grade vs Single-grade\",fontsize = 14,fontweight = \"bold\")\n",
    "ax[1].set_xlabel(\"Borrower Type\")\n",
    "ax[1].set_ylabel(\"Average Interest Rate (%)\")\n",
    "ax[1].grid(True)\n",
    "\n",
    "plt.tight_layout()\n",
    "plt.show()"
   ]
  },
  {
   "cell_type": "markdown",
   "id": "29c155eb-7e1d-4b40-b2ef-fc4744b618c2",
   "metadata": {},
   "source": [
    "### ***`39. Delinquency Signal by Grade: Impact Delta. Quantify how much a non-zero delinq_2yrs lifts default risk within each grade.`***\n",
    "\n",
    "`The analysis highlights how a recent delinquency (non-zero delinq_2yrs) impacts default risk across loan grades. Interestingly, borrowers with no prior delinquencies (clean) generally show much higher default rates than those with recorded delinquencies, with the difference growing from Grade A (delta = –1.95%) to Grade G (delta = –23.5%). This counterintuitive pattern suggests that in lower grades, prior delinquencies may already be accounted for in interest rates or lending terms, while clean borrowers could still be exposed to higher absolute default risk. The bar plots show that the impact of delinquency on default is largest in high-risk grades (E–G), emphasizing that even “clean” borrowers in these grades can be risky. Lenders can use this insight to refine early warning models and adjust monitoring strategies, focusing not only on prior delinquencies but also on grade-specific risk profiles.`"
   ]
  },
  {
   "cell_type": "code",
   "execution_count": null,
   "id": "d9f5386e-aa50-44f7-af5c-d1e551553923",
   "metadata": {},
   "outputs": [],
   "source": [
    "query = \"\"\"WITH stats AS (\n",
    "              SELECT\n",
    "                grade,\n",
    "                AVG(CASE WHEN delinq_2yrs > 0 AND loan_status = 'charged off' THEN 1 ELSE 0 END) AS def_with_delinq,\n",
    "                AVG(CASE WHEN delinq_2yrs = 0 AND loan_status = 'charged off' THEN 1 ELSE 0 END) AS def_clean\n",
    "              FROM loans\n",
    "              GROUP BY grade\n",
    "            )\n",
    "            \n",
    "            SELECT\n",
    "              grade,\n",
    "              ROUND(def_with_delinq * 100, 2) AS default_pct_with_delinq,\n",
    "              ROUND(def_clean * 100, 2) AS default_pct_clean,\n",
    "              ROUND((def_with_delinq - def_clean) * 100, 2) AS delta_default_pct,\n",
    "              RANK() OVER (ORDER BY (def_with_delinq - def_clean) DESC) AS impact_rank\n",
    "            FROM stats\n",
    "            ORDER BY impact_rank;\"\"\"\n",
    "\n",
    "df = run_query(conn,query)\n",
    "df"
   ]
  },
  {
   "cell_type": "code",
   "execution_count": null,
   "id": "b8c7fb59-1ce0-4b46-8b2a-5f5f78560aff",
   "metadata": {},
   "outputs": [],
   "source": [
    "df_melt = df.melt(id_vars = \"grade\",value_vars = [\"default_pct_with_delinq\", \"default_pct_clean\"],\n",
    "                  var_name = \"condition\",value_name = \"default_pct\")\n",
    "df_melt"
   ]
  },
  {
   "cell_type": "code",
   "execution_count": null,
   "id": "8f662cbc-f85e-4ccc-a68c-b6f80d2dcd1e",
   "metadata": {},
   "outputs": [],
   "source": [
    "fig, ax = plt.subplots(1, 2, figsize = (15,6))\n",
    "\n",
    "# With vs Clean default %\n",
    "sns.barplot(data = df_melt,x = \"grade\",y = \"default_pct\",hue = \"condition\",palette = \"inferno\",ax = ax[0])\n",
    "ax[0].set_title(\"Default %: With vs Clean by Grade\", fontsize = 14, fontweight = \"bold\")\n",
    "ax[0].set_xlabel(\"Grade\")\n",
    "ax[0].set_ylabel(\"Default %\")\n",
    "ax[0].legend(title = \"Condition\", labels = [\"With Delinq\", \"Clean\"])\n",
    "ax[0].grid(True)\n",
    "\n",
    "# Delta impact (difference)\n",
    "sns.barplot(data = df,hue = \"grade\",y = \"delta_default_pct\",palette = \"Spectral\",ax = ax[1])\n",
    "ax[1].set_title(\"Delta Default % (With - Clean)\", fontsize = 14, fontweight = \"bold\")\n",
    "ax[1].set_xlabel(\"Grade\")\n",
    "ax[1].set_ylabel(\"Delta in Default %\")\n",
    "ax[1].grid(True)\n",
    "\n",
    "plt.tight_layout()\n",
    "plt.show()"
   ]
  },
  {
   "cell_type": "markdown",
   "id": "2439efd9-bf29-4b52-87ef-ce7885dbabd3",
   "metadata": {},
   "source": [
    "### ***`40. Safe Lending Zones (Best Performing Segments). Finds grade + purpose combinations with the highest repayment % . Identifies borrower groups where lending is most secure.`***\n",
    "\n",
    "`The analysis identifies the safest segments to lend to by combining loan grade and purpose. Grade A borrowers, especially for purposes like moving, house, and debt_consolidation, consistently show the highest repayment rates, with fully paid percentages reaching over 50% in some cases (e.g., moving loans at 50.6%). Grade B and C borrowers performing home improvement or debt consolidation loans also maintain decent repayment, typically around 33–37%. The heatmap clearly shows that higher-grade loans cluster in the top repayment zones, while lower grades (E–G) often have scattered and lower repayment percentages.Looking at loan volume versus repayment, larger segments like Grade A debt consolidation (12,170 loans) and Grade B debt consolidation (20,684 loans) dominate the portfolio but still maintain solid repayment, indicating both safety and portfolio scale. The boxplots and scatterplots reveal that high repayment percentages are concentrated in top grades, suggesting that lenders can focus on these safe lending zones to minimize risk while maintaining lending scale. Overall, targeting high-grade borrowers and proven purposes ensures portfolio stability and reduces default exposure.`"
   ]
  },
  {
   "cell_type": "code",
   "execution_count": null,
   "id": "d1f9d54a-c36a-4a59-8bd0-d31cef406bdf",
   "metadata": {},
   "outputs": [],
   "source": [
    "query = \"\"\"WITH seg AS (\n",
    "            SELECT \n",
    "                grade,\n",
    "                purpose,\n",
    "                CASE \n",
    "                    WHEN loan_status = 'fully paid' THEN 1\n",
    "                    ELSE 0\n",
    "                END AS fully_paid_flag,\n",
    "                loan_id\n",
    "            FROM loans\n",
    "        )\n",
    "        \n",
    "        SELECT\n",
    "            grade,\n",
    "            purpose,\n",
    "            COUNT(loan_id) AS total_loans,\n",
    "            ROUND(AVG(fully_paid_flag) * 100, 2) AS fully_paid_pct\n",
    "        FROM seg\n",
    "        GROUP BY grade, purpose\n",
    "        ORDER BY grade,fully_paid_pct DESC;\"\"\"\n",
    "\n",
    "df = run_query(conn,query)\n",
    "df['fully_paid_pct'] = df['fully_paid_pct'].astype('float')\n",
    "df"
   ]
  },
  {
   "cell_type": "code",
   "execution_count": null,
   "id": "8d19382b-868f-4fce-88cc-2a303a54ab4f",
   "metadata": {
    "scrolled": true
   },
   "outputs": [],
   "source": [
    "pivot_df1 = df.pivot_table(index = \"grade\",columns = \"purpose\",values = \"total_loans\")\n",
    "pivot_df1"
   ]
  },
  {
   "cell_type": "code",
   "execution_count": null,
   "id": "64d69ffe-b967-4675-a7f9-763da4c8c010",
   "metadata": {},
   "outputs": [],
   "source": [
    "pivot_df2 = df.pivot_table(index = \"grade\",columns = \"purpose\",values = \"fully_paid_pct\")\n",
    "pivot_df2"
   ]
  },
  {
   "cell_type": "code",
   "execution_count": null,
   "id": "783539f5-8ad7-4c8c-87a9-bf790f481201",
   "metadata": {},
   "outputs": [],
   "source": [
    "fig, ax = plt.subplots(2, 2, figsize = (20,16))\n",
    "\n",
    "# 1. Heatmap of repayment %\n",
    "sns.heatmap(pivot_df2,annot = True, fmt = \".1f\", cmap = \"inferno\",cbar_kws = {'label': 'Fully Paid %'},ax = ax[0,0])\n",
    "ax[0,0].set_title(\"Repayment % by Grade & Purpose\",fontsize = 14,fontweight = \"bold\")\n",
    "ax[0,0].set_xlabel(\"Purpose\")\n",
    "ax[0,0].set_ylabel(\"Grade\")\n",
    "\n",
    "# 2. Top 10 segments barplot\n",
    "top10 = df.sort_values(\"fully_paid_pct\", ascending = False).head(10)\n",
    "\n",
    "sns.barplot(data = top10,x = \"fully_paid_pct\",y = \"purpose\",hue = \"grade\",palette = \"rainbow\",ax = ax[0,1])\n",
    "ax[0,1].set_title(\"Top 10 Safe Lending Segments\", fontsize = 14, fontweight = \"bold\")\n",
    "ax[0,1].set_xlabel(\"Fully Paid %\")\n",
    "ax[0,1].set_ylabel(\"Purpose\")\n",
    "ax[0,1].grid(True)\n",
    "ax[0,1].legend(title = \"Grade\")\n",
    "\n",
    "# 3. Boxplot repayment % by grade\n",
    "sns.boxplot(data = df,hue = \"grade\",y=\"fully_paid_pct\",palette = \"rainbow\",ax = ax[1,0])\n",
    "ax[1,0].set_title(\"Distribution of Repayment % by Grade\",fontsize = 14,fontweight = \"bold\")\n",
    "ax[1,0].set_xlabel(\"Grade\")\n",
    "ax[1,0].set_ylabel(\"Fully Paid %\")\n",
    "ax[1,0].grid(True)\n",
    "\n",
    "# 4. Scatterplot: total loans vs repayment %\n",
    "sns.scatterplot(data = df,x = \"total_loans\",y = \"fully_paid_pct\",hue = \"grade\",palette = 'plasma',\n",
    "                size = \"total_loans\",sizes = (5,500),ax=ax[1,1])\n",
    "ax[1,1].set_title(\"Repayment % vs Loan Volume\",fontsize = 14,fontweight = \"bold\")\n",
    "ax[1,1].set_xlabel(\"Total Loans\")\n",
    "ax[1,1].set_ylabel(\"Fully Paid %\")\n",
    "ax[1,1].grid(True)\n",
    "\n",
    "plt.tight_layout()\n",
    "plt.show()"
   ]
  },
  {
   "cell_type": "code",
   "execution_count": null,
   "id": "b8ea6fb8-702e-4675-9ddc-c6db14fbc948",
   "metadata": {},
   "outputs": [],
   "source": []
  },
  {
   "cell_type": "code",
   "execution_count": null,
   "id": "42673ee9-c7ae-49cb-9509-5ed739111d7b",
   "metadata": {},
   "outputs": [],
   "source": []
  },
  {
   "cell_type": "markdown",
   "id": "24464db4-d772-4c15-aa40-043b8c27e37d",
   "metadata": {},
   "source": [
    "# ***PROJECT SUMMARY***\n",
    "\n",
    "### ***This project analyzed a large lending dataset combining borrower profiles, loan characteristics, and repayment behavior to uncover patterns, assess risk, and recommend actionable strategies for lenders. The goal was to understand who the bank lends to, how loans perform, which factors drive defaults, and how to optimize portfolio health.***\n",
    "\n",
    "#### ***`1. Borrower Profile Analysis`***\n",
    "\n",
    "- `Borrowers are primarily middle-income individuals earning between $50k–$100k, with most holding 3–9 years of employment. This suggests a relatively stable mid-career population.`\n",
    "- `Home ownership is concentrated in mortgages (~50%) and rentals (~41%), while verified borrowers make up about two-thirds of the population. Verification improves lending confidence but is not a perfect predictor of repayment.`\n",
    "- `Borrowers often have multiple loans and high total credit accounts, signaling potential over-leverage risk.`\n",
    "- `Key insight: Employment stability, home ownership, and verification combined with credit grade are stronger predictors of repayment than income alone.`\n",
    "\n",
    "#### ***`2. Loan Portfolio Overview`***\n",
    "\n",
    "- `Loans mostly range from $1,000 to $40,000, with 36–60 month terms and average interest rates of 12.5%, reflecting risk-based pricing.`\n",
    "- `Debt consolidation and credit card refinancing dominate, both in number and total amount, while niche purposes (home improvement, small business, renewable energy) contribute minimally.`\n",
    "- `Grades B and C dominate the portfolio, while higher-risk grades (F and G) are smaller but carry higher interest rates.`\n",
    "- `Key insight: Portfolio is moderately diversified but concentrated in a few segments. Longer-term and higher-purpose loans tend to carry higher risk and rates, requiring careful monitoring.`\n",
    "\n",
    "#### ***`3. Loan Performance & Risk Analysis`***\n",
    "\n",
    "- `Majority of loans are current or fully paid, but risk clusters in mid-grade, short-term loans for high-risk purposes.`\n",
    "- `Borrowers with past delinquencies, high DTI, or high revolving utilization are far more likely to default.`\n",
    "- `Grade migration shows high-grade borrowers often improve or maintain status, while mid- and low-grade borrowers frequently deteriorate, signaling the need for ongoing credit monitoring.`\n",
    "- `Interest rate analysis confirms lenders price risk: higher rates correlate with higher default, particularly for weaker borrowers.`\n",
    "\n",
    "#### ***`4. Borrower Behavior & Repayment Patterns`***\n",
    "\n",
    "- `Stable employment and home ownership correlate with lower default rates. Renters and short-tenure employees are riskier.`\n",
    "- `Repeat borrowing and multi-loan behavior indicate financial stress, increasing default likelihood.`\n",
    "- `Borrower past behavior is predictive: first loan charged off → higher probability of future default; first loan fully paid → good repayment habit likely to continue.`\n",
    "- `Key insight: Combining borrower traits, financial habits, and loan history is critical to predict defaults effectively.`\n",
    "  \n",
    "#### ***`5. Advanced Portfolio Insights & Strategic Recommendations`***\n",
    "\n",
    "- `High DTI and revolving utilization significantly increase default risk; employment length slightly influences risk; home ownership influences rates modestly.`\n",
    "- `Debt consolidation in grades B–C dominates exposure, requiring active monitoring.`\n",
    "- `Multi-grade borrowers exhibit slightly higher defaults and interest rates, signaling repeat borrowing risk.`\n",
    "- `Delinquency history is the strongest early warning signal across all grades.`\n",
    "- `Safe lending zones: high-grade borrowers in common purposes (debt consolidation, moving, home improvement) offer high repayment percentages with scale.`"
   ]
  },
  {
   "cell_type": "code",
   "execution_count": null,
   "id": "653ade78-a299-40f6-87cc-70ca9876d1ba",
   "metadata": {},
   "outputs": [],
   "source": []
  },
  {
   "cell_type": "markdown",
   "id": "ee9810e1-b6b3-462e-9cc2-19096d22e0a7",
   "metadata": {},
   "source": [
    "# ***STRATEGIC RECOMMENDATIONS FOR LENDERS***\n",
    "\n",
    "### ***> `Focus on high-grade, stable borrowers for low-risk lending.`***\n",
    "\n",
    "### ***> `Monitor mid- and low-grade borrowers intensively using multi-factor risk assessment.`***\n",
    "\n",
    "### ***> `Track past delinquencies and repeat borrowers to flag early risks.`***\n",
    "\n",
    "### ***> `Diversify portfolio beyond debt consolidation and credit cards to reduce concentration risk.`***\n",
    "\n",
    "### ***> `Use adaptive interest rates and credit limits based on borrower behavior and repayment patterns.`***\n",
    "\n",
    "### ***> `Implement early interventions: debt counseling, repayment incentives, or restructuring for high-risk borrowers.`***\n",
    "\n",
    "### ***> `Build integrated scoring models combining grade, DTI, delinquencies, employment, and utilization to improve predictive accuracy.`***"
   ]
  },
  {
   "cell_type": "code",
   "execution_count": null,
   "id": "617f4243-55e0-4186-8a29-6e4f29b09dce",
   "metadata": {},
   "outputs": [],
   "source": []
  },
  {
   "cell_type": "markdown",
   "id": "c3507454-7d22-49a1-82e0-b17b22f04c83",
   "metadata": {},
   "source": [
    "# ***OVERALL BUSSINESS INSIGHTS***\n",
    "\n",
    "### ***> `Lending to high-grade, stable borrowers ensures portfolio stability.`***\n",
    "\n",
    "### ***> `Mid-grade borrowers offer growth opportunities but require careful monitoring and dynamic risk-based strategies.`***\n",
    "\n",
    "### ***> `Repeat borrowers, multi-grade exposure, high DTI, and prior delinquencies are key risk drivers.`***\n",
    "\n",
    "### ***> `Behavior-driven adaptive strategies outperform static lending rules: early monitoring, risk-based pricing, and portfolio diversification significantly reduce defaults and improve returns.`***\n",
    "\n",
    "## ***> `Practical takeaway for real-world lending: Lend to the stable, watch the risky, intervene early, and diversify smartly.`***"
   ]
  },
  {
   "cell_type": "code",
   "execution_count": null,
   "id": "959e3fac-5cbf-467b-ae9c-ac06178ebd6a",
   "metadata": {},
   "outputs": [],
   "source": []
  },
  {
   "cell_type": "code",
   "execution_count": null,
   "id": "a2202c74-acac-4728-bfd4-d0a5bd076b5b",
   "metadata": {},
   "outputs": [],
   "source": []
  },
  {
   "cell_type": "code",
   "execution_count": null,
   "id": "84935e34-6722-4059-b9d8-263ff74b6b32",
   "metadata": {},
   "outputs": [],
   "source": []
  },
  {
   "cell_type": "code",
   "execution_count": null,
   "id": "d0af68ab-d794-4a44-a51d-cae9db39f992",
   "metadata": {},
   "outputs": [],
   "source": []
  },
  {
   "cell_type": "code",
   "execution_count": null,
   "id": "e09d0ab8-cd65-46f5-af39-f7f8e783a130",
   "metadata": {},
   "outputs": [],
   "source": []
  },
  {
   "cell_type": "code",
   "execution_count": null,
   "id": "d4b9d6f2-c2d8-40fd-81ac-f9d03a916368",
   "metadata": {},
   "outputs": [],
   "source": []
  },
  {
   "cell_type": "code",
   "execution_count": null,
   "id": "d45ea320-da59-441d-9254-f1d1a987a076",
   "metadata": {},
   "outputs": [],
   "source": []
  },
  {
   "cell_type": "code",
   "execution_count": null,
   "id": "fa522496-c410-48d4-8fca-c8e7845769e8",
   "metadata": {},
   "outputs": [],
   "source": []
  },
  {
   "cell_type": "code",
   "execution_count": null,
   "id": "27ac00ba-0bcf-40af-a9f8-0c5b1ef31562",
   "metadata": {
    "scrolled": true
   },
   "outputs": [],
   "source": [
    "pip install mysql-connector-python sqlalchemy ipython-sql pandas matplotlib seaborn"
   ]
  },
  {
   "cell_type": "code",
   "execution_count": null,
   "id": "1e1fac42-a6cb-49d3-8b42-cf45759a349c",
   "metadata": {},
   "outputs": [],
   "source": []
  }
 ],
 "metadata": {
  "kernelspec": {
   "display_name": "Python 3 (ipykernel)",
   "language": "python",
   "name": "python3"
  },
  "language_info": {
   "codemirror_mode": {
    "name": "ipython",
    "version": 3
   },
   "file_extension": ".py",
   "mimetype": "text/x-python",
   "name": "python",
   "nbconvert_exporter": "python",
   "pygments_lexer": "ipython3",
   "version": "3.13.5"
  }
 },
 "nbformat": 4,
 "nbformat_minor": 5
}
